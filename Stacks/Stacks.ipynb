{
 "cells": [
  {
   "cell_type": "markdown",
   "metadata": {},
   "source": [
    "## Stacks: (LIFO)"
   ]
  },
  {
   "cell_type": "markdown",
   "metadata": {},
   "source": [
    "Datastructure is a way of organizing and storing the data of large in a much efficient way that makes program less time consumption and fast processing.       \n",
    "\n",
    "Here, stacks is a type of datastructure in which the item in the stack must be inserted or removed from the same end (on the top of the stack) . ie,. with certain constraints and restrictions.              \n",
    "\n",
    "**Operations:**                       \n",
    "1. push(x)     - Inserting an element on the top of stack                          \n",
    "2. pop()       - Removing element from the top of stack                            \n",
    "3. Top()       - returns newly added element (top)                   \n",
    "4. IsElement() - Checking whether elements are in stack or not (Boolian - True/False)                      \n",
    "\n",
    "LIFO - Last-In-First-Out                       "
   ]
  },
  {
   "cell_type": "markdown",
   "metadata": {},
   "source": [
    "There are two kinds of implementation in stacks,             \n",
    "Using,               \n",
    "1. Arrays                    \n",
    "2. LinkedList"
   ]
  },
  {
   "cell_type": "markdown",
   "metadata": {},
   "source": [
    "### 1. Array Implementation:"
   ]
  },
  {
   "cell_type": "code",
   "execution_count": 1,
   "metadata": {},
   "outputs": [],
   "source": [
    "# stack class\n",
    "class Stack:\n",
    "    def __init__(self):\n",
    "        \n",
    "        self.top = -1 \n",
    "        self.stack = []\n",
    "        \n",
    "    def push(self,x_new):\n",
    "        '''function that pushes values to the stack'''\n",
    "        self.top += 1\n",
    "        self.stack = self.stack + [x_new]\n",
    "    \n",
    "    def pop(self):\n",
    "        '''popping the last element from the stack'''\n",
    "        if self.top == -1:\n",
    "            print('Error : There is no element to pop from the stack')\n",
    "            return\n",
    "        self.stack.remove(self.stack[self.top])\n",
    "        self.top -= 1\n",
    "    \n",
    "    def Top(self):\n",
    "        '''returns the top of the item in the stack'''\n",
    "        return self.stack[self.top]\n",
    "    \n",
    "    def Isempty(self):\n",
    "        '''checks whether stack empty ,if it so then returns true else false'''\n",
    "        return self.stack == []\n",
    "        \n",
    "    def print_stack(self):\n",
    "        print('Stack:')\n",
    "        for i in range(len(self.stack)):\n",
    "            print(self.stack[i],end = ' ')\n",
    "        print()"
   ]
  },
  {
   "cell_type": "code",
   "execution_count": 2,
   "metadata": {},
   "outputs": [],
   "source": [
    "s = Stack()"
   ]
  },
  {
   "cell_type": "code",
   "execution_count": 3,
   "metadata": {},
   "outputs": [],
   "source": [
    "# operations \n",
    "s.push(2)\n",
    "s.push(5)\n",
    "s.push(10)\n",
    "\n",
    "s.pop()\n",
    "s.push(12)"
   ]
  },
  {
   "cell_type": "code",
   "execution_count": 4,
   "metadata": {},
   "outputs": [
    {
     "name": "stdout",
     "output_type": "stream",
     "text": [
      "Stack:\n",
      "2 5 12 \n"
     ]
    }
   ],
   "source": [
    "# printing \n",
    "s.print_stack()"
   ]
  },
  {
   "cell_type": "code",
   "execution_count": 5,
   "metadata": {},
   "outputs": [
    {
     "data": {
      "text/plain": [
       "12"
      ]
     },
     "execution_count": 5,
     "metadata": {},
     "output_type": "execute_result"
    }
   ],
   "source": [
    "# Top of the stack\n",
    "s.Top()"
   ]
  },
  {
   "cell_type": "markdown",
   "metadata": {},
   "source": [
    "### Linked List Implementation of stacks:                           \n",
    "Though, in Linked-list, if we want to insert/delete an element in the end  we traverse along all other nodes to reach to the end and change the pointer value with the newnode that we creating. This makes program not so efficient because our goal is to keep function at a constant time (O(1)) but for traversing it seems that time leads to (O(n)). So, here by using some strategy to push and pop element from the Linkedlis using stack."
   ]
  },
  {
   "cell_type": "markdown",
   "metadata": {},
   "source": [
    "#### singly linked list:"
   ]
  },
  {
   "cell_type": "code",
   "execution_count": 32,
   "metadata": {},
   "outputs": [],
   "source": [
    "\n",
    "# class Node\n",
    "class Node:\n",
    "    def __init__(self,data):\n",
    "        self.data = data\n",
    "        self.next = None\n",
    "\n",
    "# class Linkedlist\n",
    "class Stack_ll:\n",
    "    def __init__(self):\n",
    "        self.head = None\n",
    "    \n",
    "    def push(self,new_data):\n",
    "        '''pushes new value to the linkedlist'''\n",
    "        #creating new node \n",
    "        new_node = Node(new_data)\n",
    "        \n",
    "        # if head node is null we can link it to the newnode's address\n",
    "        if self.head == None:\n",
    "            self.head = new_node\n",
    "            return\n",
    "        \n",
    "        # pushing nodes before the head node...\n",
    "        new_node.next = self.head\n",
    "        self.head = new_node\n",
    "        \n",
    "    def pop(self):\n",
    "        '''popping the last element from the linkedlist'''\n",
    "        temp = self.head\n",
    "        \n",
    "        # if head node is empty then we return that no element in the linked list\n",
    "        if self.head == None:\n",
    "            print('Sorry,No elements to pop')\n",
    "            return\n",
    "        \n",
    "        self.head = temp.next\n",
    "        temp = None\n",
    "    \n",
    "    def top(self):\n",
    "        return self.head.data\n",
    "    \n",
    "    def IsEmpty(self):\n",
    "        return self.head == None\n",
    "        \n",
    "    \n",
    "    def print_list(self):\n",
    "        temp = self.head\n",
    "        while temp != None:\n",
    "            print(temp.data, end = ' ')\n",
    "            temp = temp.next"
   ]
  },
  {
   "cell_type": "code",
   "execution_count": 33,
   "metadata": {},
   "outputs": [],
   "source": [
    "# Pushing the elements in the stack\n",
    "stack = Stack_ll()\n",
    "stack.push(2)\n",
    "stack.push(5)\n",
    "stack.push(10)\n",
    "stack.pop()\n",
    "stack.push(12)\n"
   ]
  },
  {
   "cell_type": "code",
   "execution_count": 34,
   "metadata": {},
   "outputs": [
    {
     "name": "stdout",
     "output_type": "stream",
     "text": [
      "12 5 2 "
     ]
    }
   ],
   "source": [
    "#printing\n",
    "stack.print_list()"
   ]
  },
  {
   "cell_type": "code",
   "execution_count": 35,
   "metadata": {},
   "outputs": [
    {
     "data": {
      "text/plain": [
       "12"
      ]
     },
     "execution_count": 35,
     "metadata": {},
     "output_type": "execute_result"
    }
   ],
   "source": [
    "# Top element\n",
    "stack.top()"
   ]
  },
  {
   "cell_type": "code",
   "execution_count": 36,
   "metadata": {},
   "outputs": [],
   "source": [
    "# Popping all the element \n",
    "stack.pop()\n",
    "stack.pop()\n",
    "stack.pop()"
   ]
  },
  {
   "cell_type": "code",
   "execution_count": 37,
   "metadata": {},
   "outputs": [
    {
     "data": {
      "text/plain": [
       "True"
      ]
     },
     "execution_count": 37,
     "metadata": {},
     "output_type": "execute_result"
    }
   ],
   "source": [
    "# Checking for whether stack is empty\n",
    "stack.IsEmpty()"
   ]
  },
  {
   "cell_type": "code",
   "execution_count": 38,
   "metadata": {},
   "outputs": [
    {
     "name": "stdout",
     "output_type": "stream",
     "text": [
      "Sorry,No elements to pop\n"
     ]
    }
   ],
   "source": [
    "#trying to pop again\n",
    "stack.pop()"
   ]
  },
  {
   "cell_type": "markdown",
   "metadata": {},
   "source": [
    "#### Doubly LinkedList:"
   ]
  },
  {
   "cell_type": "code",
   "execution_count": 46,
   "metadata": {},
   "outputs": [],
   "source": [
    "# class Node \n",
    "class Node:\n",
    "    def __init__(self,data):\n",
    "        self.prev = None\n",
    "        self.data = data\n",
    "        self.next = None\n",
    "    \n",
    "# DLL class\n",
    "class Stack_dll:\n",
    "    def __init__(self):\n",
    "        self.head = None\n",
    "    \n",
    "    def push(self,new_data):\n",
    "        '''pushing new data into the stack'''\n",
    "        #creating new node that contains both prev and next pointer\n",
    "        new_node = Node(new_data)\n",
    "        \n",
    "        # prev pointer will always be 0\n",
    "        new_node.prev = None\n",
    "        \n",
    "        #if head node is empty then push new node\n",
    "        if self.head != None:\n",
    "            self.head.prev = new_node\n",
    "            \n",
    "        # pushing the values in the DLL\n",
    "        new_node.next = self.head\n",
    "        self.head = new_node\n",
    "        \n",
    "    def pop(self):\n",
    "        '''popping the top element formt he stack'''\n",
    "        temp = self.head\n",
    "        \n",
    "        # head node's prev pointer alwasy be None\n",
    "        temp.prev = None\n",
    "        \n",
    "        #if headnode is empty return no element to pop\n",
    "        if self.head == None:\n",
    "            print('Error : No element to pop')\n",
    "            return\n",
    "        \n",
    "        # popping the values form the stack\n",
    "        self.head = temp.next\n",
    "        temp = None\n",
    "    \n",
    "    def top(self):\n",
    "        return self.head.data\n",
    "    \n",
    "    def IsEmpty(self):\n",
    "        return self.head == None\n",
    "        \n",
    "    def print_list(self):\n",
    "        temp = self.head \n",
    "        while temp != None:\n",
    "            print(temp.data,end= ' ')\n",
    "            temp = temp.next"
   ]
  },
  {
   "cell_type": "code",
   "execution_count": 47,
   "metadata": {},
   "outputs": [
    {
     "name": "stdout",
     "output_type": "stream",
     "text": [
      "61 10 2 "
     ]
    }
   ],
   "source": [
    "d_llist = Stack_dll()\n",
    "\n",
    "d_llist.push(2)\n",
    "d_llist.push(4)\n",
    "d_llist.pop()\n",
    "d_llist.push(10)\n",
    "d_llist.push(61)\n",
    "\n",
    "#printing\n",
    "d_llist.print_list()"
   ]
  },
  {
   "cell_type": "code",
   "execution_count": 48,
   "metadata": {},
   "outputs": [
    {
     "data": {
      "text/plain": [
       "61"
      ]
     },
     "execution_count": 48,
     "metadata": {},
     "output_type": "execute_result"
    }
   ],
   "source": [
    "# top stacked element\n",
    "d_llist.top()"
   ]
  },
  {
   "cell_type": "code",
   "execution_count": 49,
   "metadata": {},
   "outputs": [],
   "source": [
    "# popping all the element\n",
    "d_llist.pop()\n",
    "d_llist.pop()\n",
    "d_llist.pop()"
   ]
  },
  {
   "cell_type": "code",
   "execution_count": 50,
   "metadata": {},
   "outputs": [
    {
     "data": {
      "text/plain": [
       "True"
      ]
     },
     "execution_count": 50,
     "metadata": {},
     "output_type": "execute_result"
    }
   ],
   "source": [
    "# Checking IsEmpty\n",
    "d_llist.IsEmpty()"
   ]
  },
  {
   "cell_type": "markdown",
   "metadata": {},
   "source": [
    "### Reversing an elements using stack:                       \n",
    "In stack , there are several usecases that we gonna implement                 \n",
    "\n",
    "There are two ways of traversing in a reversed order using stack,                             \n",
    "1. Reverse a string.                      \n",
    "2. Reverse a LinkedList"
   ]
  },
  {
   "cell_type": "markdown",
   "metadata": {},
   "source": [
    "#### 1. Reverse a string (Using python list):"
   ]
  },
  {
   "cell_type": "code",
   "execution_count": 199,
   "metadata": {},
   "outputs": [],
   "source": [
    "# stack class : Using python list\n",
    "class Stack:\n",
    "    def __init__(self):\n",
    "        self.top = -1\n",
    "        self.stack = []\n",
    "    \n",
    "    def push(self,new_data):\n",
    "        '''pushing values in the stack'''\n",
    "        self.stack = self.stack + [new_data]\n",
    "        self.top += 1\n",
    "        \n",
    "    def pop(self):\n",
    "        '''pops the top of the element first (LIFO)'''\n",
    "        if self.top == -1:\n",
    "            print('Error: No element to pop')\n",
    "            return\n",
    "        self.stack.pop(self.top)\n",
    "        self.top -= 1\n",
    "                    \n",
    "    def Top(self):\n",
    "        return self.stack[self.top]\n",
    "    \n",
    "    def IsEmpty(self):\n",
    "        return self.stack == []\n",
    "        \n",
    "    def print_stack(self):\n",
    "        '''printing the list  of stack'''\n",
    "        result = []\n",
    "        for i in self.stack:\n",
    "            result.append(i)\n",
    "        return result\n",
    "\n",
    "def reverse(stack,char):\n",
    "    n = len(char)\n",
    "    char = list(char)\n",
    "    str = ''\n",
    "    if char == []:\n",
    "        return\n",
    "    \n",
    "    for i in range(n):\n",
    "        stack.push(char[i]) # pushing the chars inside\n",
    "        \n",
    "    for i in range(n):\n",
    "        char[i] = stack.Top()  # getting top of the char as first item\n",
    "        stack.pop() # popping the item\n",
    "    return str.join(char)"
   ]
  },
  {
   "cell_type": "code",
   "execution_count": 200,
   "metadata": {},
   "outputs": [],
   "source": [
    "s = Stack()"
   ]
  },
  {
   "cell_type": "code",
   "execution_count": 201,
   "metadata": {},
   "outputs": [],
   "source": [
    "char = list('Harisurya')"
   ]
  },
  {
   "cell_type": "code",
   "execution_count": 202,
   "metadata": {},
   "outputs": [
    {
     "data": {
      "text/plain": [
       "'ayrusiraH'"
      ]
     },
     "execution_count": 202,
     "metadata": {},
     "output_type": "execute_result"
    }
   ],
   "source": [
    "reverse(s,char)"
   ]
  },
  {
   "cell_type": "markdown",
   "metadata": {},
   "source": [
    "#### 2. Reversing a linkedlist using stack:                           \n",
    "     Reversing a stack using linkedlist can be very intuitive and efficient model as the time and space complexity will be O(1) at constant but in the case of arrays ,this becomes O(n) ."
   ]
  },
  {
   "cell_type": "markdown",
   "metadata": {},
   "source": [
    "##### single linkedlist:"
   ]
  },
  {
   "cell_type": "code",
   "execution_count": 59,
   "metadata": {},
   "outputs": [],
   "source": [
    "# class Node\n",
    "class Node:\n",
    "    def __init__(self,data):\n",
    "        self.data = data\n",
    "        self.next = None\n",
    "        \n",
    "# class stack\n",
    "class Stack:\n",
    "    def __init__(self):\n",
    "        self.top = -1\n",
    "        self.stack = []\n",
    "    \n",
    "    def push(self,new_data):\n",
    "        '''pushing addresses in the stack'''\n",
    "        self.stack = self.stack + [new_data]\n",
    "        self.top += 1\n",
    "    \n",
    "    def pop(self):\n",
    "        '''popping the addresses from the stack'''\n",
    "        if self.top == -1:\n",
    "            print('Error: There is no element to pop')\n",
    "        self.stack.pop(self.top)\n",
    "        self.top -= 1\n",
    "    \n",
    "    def Top(self):\n",
    "        '''getting top of the address from the stack'''\n",
    "        return self.stack[self.top]\n",
    "    \n",
    "    def IsEmpty(self):\n",
    "        return self.stack == []\n",
    "    \n",
    "# Class LinkedList\n",
    "class LinkedList:\n",
    "    def __init__(self):\n",
    "        self.head = None\n",
    "        \n",
    "    def append(self,new_data):\n",
    "        '''appending the elements in the linkedlist'''\n",
    "        # creating new node\n",
    "        new_node = Node(new_data)\n",
    "        \n",
    "        #if head node is empty then\n",
    "        if self.head == None:\n",
    "            self.head = new_node\n",
    "            return\n",
    "        \n",
    "        # creating temp variable as head node\n",
    "        temp = self.head\n",
    "        #traversing along the nodes tillend\n",
    "        while temp.next != None:\n",
    "            temp = temp.next\n",
    "        \n",
    "        # appending inthe last node\n",
    "        temp.next = new_node\n",
    "    \n",
    "    def reverse_stack(self):\n",
    "        # creating stack class\n",
    "        s = Stack()\n",
    "        temp = self.head\n",
    "        \n",
    "        # if herad node is null\n",
    "        if self.head == None:\n",
    "            return \n",
    "        \n",
    "        #pushing all the addresses in the stack\n",
    "        while temp != None:\n",
    "            s.push(temp)\n",
    "            temp = temp.next\n",
    "        \n",
    "        # reversing the elements using top and pop elements from the stack\n",
    "        # making head node \n",
    "        temp = s.Top()\n",
    "        self.head = temp\n",
    "        \n",
    "        # reversing\n",
    "        while s.IsEmpty() == False:\n",
    "            temp.next = s.Top()\n",
    "            s.pop()\n",
    "            temp = temp.next\n",
    "        \n",
    "        temp.next = None\n",
    "        \n",
    "    def print_list(self):\n",
    "        '''printing elements in the linkedlist'''\n",
    "        temp = self.head\n",
    "        while temp != None:\n",
    "            print(temp.data,end = ' ')\n",
    "            temp = temp.next\n",
    "            \n",
    "            "
   ]
  },
  {
   "cell_type": "code",
   "execution_count": 60,
   "metadata": {},
   "outputs": [],
   "source": [
    "# LinkedList\n",
    "llist = LinkedList()\n",
    "\n",
    "llist.append(3)\n",
    "llist.append(6)\n",
    "llist.append(5)\n",
    "llist.append(9)"
   ]
  },
  {
   "cell_type": "code",
   "execution_count": 61,
   "metadata": {},
   "outputs": [
    {
     "name": "stdout",
     "output_type": "stream",
     "text": [
      "3 6 5 9 "
     ]
    }
   ],
   "source": [
    "# Printing values\n",
    "llist.print_list()"
   ]
  },
  {
   "cell_type": "code",
   "execution_count": 62,
   "metadata": {},
   "outputs": [],
   "source": [
    "# reversing using stack\n",
    "llist.reverse_stack()"
   ]
  },
  {
   "cell_type": "code",
   "execution_count": 63,
   "metadata": {},
   "outputs": [
    {
     "name": "stdout",
     "output_type": "stream",
     "text": [
      "9 5 6 3 "
     ]
    }
   ],
   "source": [
    "# printing after reversing\n",
    "llist.print_list()"
   ]
  }
 ],
 "metadata": {
  "kernelspec": {
   "display_name": "Python 3",
   "language": "python",
   "name": "python3"
  },
  "language_info": {
   "codemirror_mode": {
    "name": "ipython",
    "version": 3
   },
   "file_extension": ".py",
   "mimetype": "text/x-python",
   "name": "python",
   "nbconvert_exporter": "python",
   "pygments_lexer": "ipython3",
   "version": "3.7.1"
  }
 },
 "nbformat": 4,
 "nbformat_minor": 2
}
