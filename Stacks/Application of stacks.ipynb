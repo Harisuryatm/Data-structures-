{
 "cells": [
  {
   "cell_type": "markdown",
   "metadata": {},
   "source": [
    "## Applications of Stack:                       \n",
    "\n",
    "Stacks are mainly used in,           \n",
    "\n",
    "- An \"undo\" mechanism in text editors; this operation is accomplished by keeping all text changes in a stack.             \n",
    "- Recursion functio / function call in the programming languages,                    \n",
    "- A pile of books arranged in the book shelf.               \n",
    "- Checking for balanced parenthesis.                     \n",
    "- Infix, prefix, postfix concepts."
   ]
  },
  {
   "cell_type": "markdown",
   "metadata": {},
   "source": [
    "### Application : Check for Balanced parenthesis                                \n",
    "   This is one of the important application in the computer science environment as to check whether the parenthesis is completed or not.                        \n",
    "For example,                \n",
    "Take an input as '{[(<>)]}' .This has the completed it's parenthesis. But, for '][' or '([)]' This is incomplete/ didn't provide any information. If we try to solve this problem by normal techniques ,then this can't be work on all the test cases.  \n",
    "So, this problem can be efficiently solved by using stack (Last-in-First-Out).                              \n",
    "\n",
    "Steps :                \n",
    "1. check till the input contains openning parenthesis and append it to the list or stack.                            \n",
    "2. Then, take top of the list ie,last element and pop it iteratively till the list gets empty.                    \n",
    "3. If the stack is empty,then parenthesis balanced .else, not balanced"
   ]
  },
  {
   "cell_type": "code",
   "execution_count": 1,
   "metadata": {},
   "outputs": [],
   "source": [
    "def check_balanced_parenthesis(s):\n",
    "    '''check for balanced parenthesis and return true if balanced.Else, false '''\n",
    "    stack = []\n",
    "    d = {'{':'}','[':']','(':')','<':'>'}\n",
    "    # looping for every char in string\n",
    "    for i in range(len(s)):\n",
    "        # pushing the opening parenthesis in stack\n",
    "        if s[i] in d.keys():\n",
    "            stack.append(s[i])\n",
    "        \n",
    "        # if stack is empty or corresponding top of stack is not equal to char in input then\n",
    "        elif len(stack) == 0 or d[stack[len(stack)-1]] != s[i]:\n",
    "            return False\n",
    "        \n",
    "        # otherwise pop the last element from the stack\n",
    "        else:\n",
    "            stack.remove(stack[len(stack)-1])\n",
    "        \n",
    "    \n",
    "    if len(stack) == 0:\n",
    "        return True\n",
    "    "
   ]
  },
  {
   "cell_type": "code",
   "execution_count": 2,
   "metadata": {},
   "outputs": [
    {
     "data": {
      "text/plain": [
       "True"
      ]
     },
     "execution_count": 2,
     "metadata": {},
     "output_type": "execute_result"
    }
   ],
   "source": [
    "s = '[()]'\n",
    "check_balanced_parenthesis(s)"
   ]
  },
  {
   "cell_type": "markdown",
   "metadata": {},
   "source": [
    "#### Test cases:"
   ]
  },
  {
   "cell_type": "code",
   "execution_count": 3,
   "metadata": {},
   "outputs": [
    {
     "data": {
      "text/plain": [
       "False"
      ]
     },
     "execution_count": 3,
     "metadata": {},
     "output_type": "execute_result"
    }
   ],
   "source": [
    "r = '[{]}()'\n",
    "check_balanced_parenthesis(r)"
   ]
  },
  {
   "cell_type": "code",
   "execution_count": 4,
   "metadata": {},
   "outputs": [
    {
     "data": {
      "text/plain": [
       "False"
      ]
     },
     "execution_count": 4,
     "metadata": {},
     "output_type": "execute_result"
    }
   ],
   "source": [
    "p = ')('\n",
    "check_balanced_parenthesis(p)"
   ]
  },
  {
   "cell_type": "markdown",
   "metadata": {},
   "source": [
    "### Application :  Infix , Prefix , Postfix:                                 \n",
    "Infix,Prefix,postfix is the most important application of stacks though which we work on operands and operators.This application can mainly save memory for arithmatic operations.                            \n",
    "operand - expression/variable/constants                         \n",
    "operator - Arithmatic expressions (+,/,*,-)                         \n",
    "\n",
    "This only performs on binary operators.                                     \n",
    "\n",
    "Infix : performing arithmatic operations on two operands.(a+b , 2+6 , r-2 , a+b * c , etc...)                                  \n",
    "Prefix : operators are fed before the operands. (+a * bc , +2 6 , -r 2 etc...)                                     \n",
    "Postfix : operators are fed after the operands, (a bc*+ , 2 6+, r 2- etc....)                     \n",
    "\n",
    "So, we gonna transform infix into prefix/postfix.\n"
   ]
  },
  {
   "cell_type": "markdown",
   "metadata": {},
   "source": [
    "### Evaluation of Postfix:                        \n",
    "   In this , we performed the evaluation of postfix notation. ie. Input as postfix notation and it evaluate its output"
   ]
  },
  {
   "cell_type": "code",
   "execution_count": 15,
   "metadata": {},
   "outputs": [],
   "source": [
    "#class stack\n",
    "class Stack:\n",
    "    def __init__(self):\n",
    "        self.top = -1\n",
    "        self.stack = []\n",
    "    \n",
    "    def push(self,new_data):\n",
    "        '''pushing elements inside the stack'''\n",
    "        self.stack = self.stack + [new_data]\n",
    "        self.top += 1\n",
    "    \n",
    "    def pop(self):\n",
    "        '''popping elements from the stack'''\n",
    "        if self.top == -1:\n",
    "            print('Error : there is no element to pop')\n",
    "            return\n",
    "        s = self.stack.pop(self.top)\n",
    "        self.top -= 1\n",
    "        return s\n",
    "    \n",
    "    def Top(self):\n",
    "        '''returns top of the element from the stack'''\n",
    "        return self.stack[self.top]\n",
    "    \n",
    "    def IsEmpty(self):\n",
    "        '''returns true if empty'''\n",
    "        return self.stack == []\n",
    "    def print_(self):\n",
    "        return self.stack"
   ]
  },
  {
   "cell_type": "code",
   "execution_count": 16,
   "metadata": {},
   "outputs": [],
   "source": [
    "# Postfix Operation : <operand><operand><operator>\n",
    "def Postfix(s):\n",
    "    stack = Stack()\n",
    "    # looping through each char in the input\n",
    "    for i in range(len(s)):\n",
    "        # pushing the operands in the stack\n",
    "        if s[i].isdigit():\n",
    "            stack.push(s[i])\n",
    "    \n",
    "        else:\n",
    "            # taking last two operands fromthe stack\n",
    "            op2 = stack.pop()\n",
    "            op1 = stack.pop()\n",
    "            #  evaluation of two operands in the variable\n",
    "            result = eval(str(str(op1) + s[i] + str(op2)))\n",
    "            # pushing the result into the stack to perform next operation\n",
    "            stack.push(result)\n",
    "    return stack.Top()\n",
    "    "
   ]
  },
  {
   "cell_type": "code",
   "execution_count": 17,
   "metadata": {},
   "outputs": [
    {
     "data": {
      "text/plain": [
       "17"
      ]
     },
     "execution_count": 17,
     "metadata": {},
     "output_type": "execute_result"
    }
   ],
   "source": [
    "#Infix = 2*3 + 5*4 - 9\n",
    "Postfix(s = '23*54*+9-')"
   ]
  },
  {
   "cell_type": "markdown",
   "metadata": {},
   "source": [
    "#### Test cases:"
   ]
  },
  {
   "cell_type": "code",
   "execution_count": 21,
   "metadata": {},
   "outputs": [
    {
     "data": {
      "text/plain": [
       "5.0"
      ]
     },
     "execution_count": 21,
     "metadata": {},
     "output_type": "execute_result"
    }
   ],
   "source": [
    "#Infix = 2*3 + 4/2 - 3\n",
    "Postfix('23*42/+3-')"
   ]
  },
  {
   "cell_type": "markdown",
   "metadata": {},
   "source": [
    "### Evaluation of Prefix:"
   ]
  },
  {
   "cell_type": "code",
   "execution_count": 22,
   "metadata": {},
   "outputs": [],
   "source": [
    "# class stack\n",
    "class Stack:\n",
    "    def __init__(self):\n",
    "        self.top = -1\n",
    "        self.stack = []\n",
    "    \n",
    "    def push(self,new_data):\n",
    "        '''pushing elements into the stack'''\n",
    "        self.stack = self.stack + [new_data]\n",
    "        self.top += 1\n",
    "        \n",
    "    def pop(self):\n",
    "        '''popping elements from the stack'''\n",
    "        if self.top == -1:\n",
    "            print('Error : No elements to pop')\n",
    "            return\n",
    "        \n",
    "        s = self.stack.pop(self.top)\n",
    "        self.top -= 1\n",
    "        return s\n",
    "    \n",
    "    def Top(self):\n",
    "        '''returns top of the element from the stack'''\n",
    "        return self.stack[self.top]\n",
    "    \n",
    "    def IsEmpty(self):\n",
    "        '''Check if the stack is empty'''\n",
    "        return self.stack == []"
   ]
  },
  {
   "cell_type": "code",
   "execution_count": 28,
   "metadata": {},
   "outputs": [],
   "source": [
    "# prefix implementation : <operand><operand><operator>\n",
    "# Same as postfix but for prefix we have to reverse our input ,so that we can perform calculations\n",
    "def Prefix(s):\n",
    "    '''Input as a prefix notation and returns the calculated answer'''\n",
    "    # calling stack class\n",
    "    stack = Stack()\n",
    "    \n",
    "    #reversingthe input for calculating prefix\n",
    "    rev_s = s[::-1]\n",
    "    for i in range(len(rev_s)):\n",
    "        # checking for the operands\n",
    "        if rev_s[i].isdigit():\n",
    "            stack.push(rev_s[i])\n",
    "        \n",
    "        # if operator \n",
    "        else:\n",
    "            #popping last two elements \n",
    "            op1 = stack.pop()\n",
    "            op2 = stack.pop()\n",
    "            \n",
    "            # calculating with operators\n",
    "            result = eval(str(str(op1) + rev_s[i] + str(op2)))\n",
    "            \n",
    "            # pushing the resultant back to stack for further calculations\n",
    "            stack.push(result)\n",
    "    return stack.Top()"
   ]
  },
  {
   "cell_type": "code",
   "execution_count": 29,
   "metadata": {},
   "outputs": [
    {
     "data": {
      "text/plain": [
       "17"
      ]
     },
     "execution_count": 29,
     "metadata": {},
     "output_type": "execute_result"
    }
   ],
   "source": [
    "#Infix = 2*3 + 5*4 - 9\n",
    "Prefix('-+*23*549')"
   ]
  },
  {
   "cell_type": "markdown",
   "metadata": {},
   "source": [
    "#### Test cases:"
   ]
  },
  {
   "cell_type": "code",
   "execution_count": 30,
   "metadata": {},
   "outputs": [
    {
     "data": {
      "text/plain": [
       "5.0"
      ]
     },
     "execution_count": 30,
     "metadata": {},
     "output_type": "execute_result"
    }
   ],
   "source": [
    "#Infix = 2*3 + 4/2 - 3\n",
    "Prefix('-+*23/423')"
   ]
  },
  {
   "cell_type": "markdown",
   "metadata": {},
   "source": [
    "### Infix to Postfix:                                      \n",
    "In this, we are going to transform the infix function into Postfix using stack. Stack is used here to store the operators.          \n",
    "\n",
    "Algorithm:                      \n",
    "\n",
    "- input as a string which contains infix.                    \n",
    "- calling stack class to perform operations                         \n",
    "- For each character in the strng, if char is digits then, we can add it to the empty string which is the final result         - orelse, if it is an operator then:                          \n",
    "     - if ,the top of the stack has higher precedence than the input then,all the operators in the stack are added to postfix string.                                     \n",
    "- pushing back the operator which is not having higher precd back into the stack.                         \n",
    "- Atlast check and pop elements from the stack and add that to the resultant string."
   ]
  },
  {
   "cell_type": "code",
   "execution_count": 34,
   "metadata": {},
   "outputs": [],
   "source": [
    "# class stack\n",
    "class Stack:\n",
    "    def __init__(self):\n",
    "        self.top = -1\n",
    "        self.stack = []\n",
    "    \n",
    "    def push(self,new_data):\n",
    "        '''pushing elements into the stack'''\n",
    "        self.stack = self.stack + [new_data]\n",
    "        self.top += 1\n",
    "        \n",
    "    def pop(self):\n",
    "        '''popping elements from the stack'''\n",
    "        if self.top == -1:\n",
    "            print('Error : No elements to pop')\n",
    "            return\n",
    "        \n",
    "        self.stack.pop(self.top)\n",
    "        self.top -= 1\n",
    "        \n",
    "    \n",
    "    def Top(self):\n",
    "        '''returns top of the element from the stack'''\n",
    "        return self.stack[self.top]\n",
    "    \n",
    "    def IsEmpty(self):\n",
    "        '''Check if the stack is empty'''\n",
    "        return self.stack == []"
   ]
  },
  {
   "cell_type": "code",
   "execution_count": 56,
   "metadata": {},
   "outputs": [],
   "source": [
    "# Checking for higher precedence between top of the stack and the input\n",
    "def HasHigherPrecd(op1,op2):\n",
    "    \n",
    "    # Getting precedence weights of two operators\n",
    "    op1_weight = GetPrecedenceWeight(op1)\n",
    "    op2_weight = GetPrecedenceWeight(op2)\n",
    "    \n",
    "    if op1_weight > op2_weight:\n",
    "        return True\n",
    "    else:\n",
    "        return False\n",
    "    \n",
    "def GetPrecedenceWeight(op):\n",
    "    '''getting each precedence weights'''\n",
    "    weight = 0\n",
    "    \n",
    "    # if parenthesis then\n",
    "    if op == '(' or op == '{' or op == '[':\n",
    "        weight += 3\n",
    "        \n",
    "    # if Mutiplication/devision then \n",
    "    elif op == '*' or op == '/':\n",
    "        weight += 2 \n",
    "        \n",
    "    # if addition/Subtraction\n",
    "    elif op == '+' or op == '-':\n",
    "        weight += 1\n",
    "    \n",
    "    return weight\n",
    "\n",
    "\n",
    "\n",
    "def InfixToPostfix(s):\n",
    "    '''Transforms Infix expression to the postfix and returns the results'''\n",
    "    #calling stack class\n",
    "    stack = Stack()\n",
    "    \n",
    "    # postfix notation of original values initialize to empty\n",
    "    result = ''\n",
    "    \n",
    "    # looping through the input\n",
    "    for i in range(len(s)):\n",
    "        # if operands then\n",
    "        if s[i].isdigit():\n",
    "            # concatenating to the postfix result string\n",
    "            result = result + s[i]\n",
    "        \n",
    "        # if operators then\n",
    "        else:\n",
    "            while (stack.IsEmpty() == False and HasHigherPrecd(stack.Top(),s[i])):\n",
    "                result = result + stack.Top()\n",
    "                stack.pop()\n",
    "            # if not precedence the push that operator in the stack \n",
    "            stack.push(s[i])\n",
    "            \n",
    "    while stack.IsEmpty() == False:\n",
    "        result = result + stack.Top()\n",
    "        stack.pop()\n",
    "        \n",
    "    return result"
   ]
  },
  {
   "cell_type": "code",
   "execution_count": 57,
   "metadata": {},
   "outputs": [
    {
     "data": {
      "text/plain": [
       "'23*54*9-+'"
      ]
     },
     "execution_count": 57,
     "metadata": {},
     "output_type": "execute_result"
    }
   ],
   "source": [
    "InfixToPostfix('2*3+5*4-9')"
   ]
  },
  {
   "cell_type": "markdown",
   "metadata": {},
   "source": [
    "#### Test cases:"
   ]
  },
  {
   "cell_type": "code",
   "execution_count": 58,
   "metadata": {},
   "outputs": [
    {
     "data": {
      "text/plain": [
       "'23*42/3-+'"
      ]
     },
     "execution_count": 58,
     "metadata": {},
     "output_type": "execute_result"
    }
   ],
   "source": [
    "InfixToPostfix('2*3+4/2-3')"
   ]
  }
 ],
 "metadata": {
  "kernelspec": {
   "display_name": "Python 3",
   "language": "python",
   "name": "python3"
  },
  "language_info": {
   "codemirror_mode": {
    "name": "ipython",
    "version": 3
   },
   "file_extension": ".py",
   "mimetype": "text/x-python",
   "name": "python",
   "nbconvert_exporter": "python",
   "pygments_lexer": "ipython3",
   "version": "3.7.1"
  }
 },
 "nbformat": 4,
 "nbformat_minor": 2
}
