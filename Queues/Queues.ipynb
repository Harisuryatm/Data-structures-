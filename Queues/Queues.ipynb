{
 "cells": [
  {
   "cell_type": "markdown",
   "metadata": {},
   "source": [
    "## Queues :                          \n",
    "\n",
    "  Queues are the datastructures ie. list/collection of elements with restriction that insertion can be performed at the end/Tail/rear of the Queue and deletion can be performed at the front/Head of the queues. This satisfies the propertiy of First-In-First-Out. (FIFO).                               \n",
    "\n",
    "Operations:                   \n",
    "1. EnQueue(x) / push - inserting/pushing elements at tail/rear                      \n",
    "2. Dequeue() / pop   - Deleting elements from the front/head of Queue                \n",
    "3. IsEmpty()         - checking whther Queue is empty or not.                    \n",
    "4. front()/peek()    - Look at the front /head element"
   ]
  },
  {
   "cell_type": "markdown",
   "metadata": {},
   "source": [
    "### Queues - Array Implementation:                             \n",
    "   By using arrays we perform queues like same as stacks but different operations (FIFO).                        "
   ]
  },
  {
   "cell_type": "code",
   "execution_count": 122,
   "metadata": {},
   "outputs": [],
   "source": [
    "# class Queue\n",
    "class Queue:\n",
    "    def __init__(self,size):\n",
    "        self.size = size  # size of the queue\n",
    "        # Initializing front and rear of the Queue as -1\n",
    "        self.front = -1\n",
    "        self.rear = -1\n",
    "        # Initializing Queue\n",
    "        self.Queue = [None]*self.size\n",
    "    \n",
    "    def IsEmpty(self):\n",
    "        '''check whether the queue is empty/not'''\n",
    "        if self.front == -1 and self.rear == -1:\n",
    "            return True\n",
    "        else:\n",
    "            return False\n",
    "    \n",
    "    def IsFull(self):\n",
    "        '''check whether queue is full/not'''\n",
    "        \n",
    "        if self.rear == self.size-1:\n",
    "            return True\n",
    "        else:\n",
    "            return False\n",
    "        \n",
    "    def Enqueue(self,x):\n",
    "        '''Inserting/push the value at the rear of the queue'''\n",
    "        if self.IsFull():\n",
    "            #if queue is full\n",
    "            print('Queue is Full')\n",
    "            return\n",
    "        \n",
    "        elif self.IsEmpty():\n",
    "            #if queue is empty then,\n",
    "            self.front = 0\n",
    "            self.rear = 0\n",
    "            \n",
    "        \n",
    "        else:\n",
    "            # if the queue has a value then,\n",
    "            self.rear = self.rear + 1\n",
    "        self.Queue[self.rear] = x\n",
    "        \n",
    "    def dequeue(self):\n",
    "        '''pop the front/head element from the queue'''\n",
    "        # if queue is empty then\n",
    "        if self.IsEmpty():\n",
    "            return\n",
    "        \n",
    "        # if there is only one element in the queue then\n",
    "        elif self.rear == self.front:\n",
    "            self.rear = -1\n",
    "            self.front = -1\n",
    "        \n",
    "        else:\n",
    "            self.front = self.front + 1\n",
    "    \n",
    "    def peek(self):\n",
    "        return self.Queue[self.front]\n",
    "    "
   ]
  },
  {
   "cell_type": "code",
   "execution_count": 123,
   "metadata": {},
   "outputs": [],
   "source": [
    "# Queue\n",
    "q = Queue(10)\n",
    "\n",
    "# Enqueueing\n",
    "q.Enqueue(5)\n",
    "q.Enqueue(7)\n",
    "q.Enqueue(9)\n",
    "q.Enqueue(11)\n",
    "q.Enqueue(13)\n",
    "\n",
    "# dequeueing\n",
    "q.dequeue() # 5 removed\n",
    "q.dequeue() # 7 removed\n",
    "q.dequeue() # 9 removed"
   ]
  },
  {
   "cell_type": "code",
   "execution_count": 124,
   "metadata": {},
   "outputs": [
    {
     "data": {
      "text/plain": [
       "11"
      ]
     },
     "execution_count": 124,
     "metadata": {},
     "output_type": "execute_result"
    }
   ],
   "source": [
    "# peek/front element after dequeuing\n",
    "q.peek() # printed 11"
   ]
  },
  {
   "cell_type": "markdown",
   "metadata": {},
   "source": [
    "**DrawBacks:**                                                     \n",
    "    There are several drawbacks of using the previous queue architecture.               \n",
    "    "
   ]
  },
  {
   "cell_type": "markdown",
   "metadata": {},
   "source": [
    "### Circular Array:                                    \n",
    "Circular array is an idea that used in queue datastructure when the queue's size is full we can't add more elements into the queue. As per our algorithm that we wrote before, the front index gets incremented and previous blocks becomes waste and unuseful.                           \n",
    "Queue (After Enqueueing and Dequeueing) : **| | | |5|3|4|7|1|2|9|**                            \n",
    "     "
   ]
  },
  {
   "cell_type": "code",
   "execution_count": 205,
   "metadata": {},
   "outputs": [],
   "source": [
    "# Implementation of circular array\n",
    "class CircularQueue:\n",
    "    def __init__(self,size):\n",
    "        self.size = size\n",
    "        self.front = -1\n",
    "        self.rear = -1\n",
    "        self.Queue = [None]*self.size\n",
    "    \n",
    "    def IsEmpty(self):\n",
    "        '''check for empty queue'''\n",
    "        if self.front == -1 and self.rear == -1:\n",
    "            return True\n",
    "        else:\n",
    "            False\n",
    "    \n",
    "    def IsFull(self):\n",
    "        '''Check whether elements equals the size and return bool'''\n",
    "        if self.rear+1 == self.size:\n",
    "            return True\n",
    "        else:\n",
    "            return False\n",
    "        \n",
    "    def Enqueue(self,x):\n",
    "        '''inserting data at the rear/tail of the queue'''\n",
    "        if self.front == (self.rear+1) % self.size:\n",
    "            return  \n",
    "\n",
    "        # if queue is empty\n",
    "        elif self.IsEmpty():\n",
    "            self.front = 0\n",
    "            self.rear = 0\n",
    "        \n",
    "        # orelse if queue has elements inside then,\n",
    "        else:\n",
    "            # circular array implementation : if queue is full then it again starts from 0th index\n",
    "            self.rear = (self.rear+1) % self.size   \n",
    "        \n",
    "        # Appending element in queue\n",
    "        self.Queue[self.rear] = x\n",
    "        \n",
    "    def Dequeue(self):\n",
    "        '''Removes the element from the front'''\n",
    "        # if empty then,\n",
    "        \n",
    "        if self.IsEmpty():\n",
    "            return\n",
    "        \n",
    "        \n",
    "        elif self.front == self.rear:\n",
    "            self.front = -1\n",
    "            self.rear = -1\n",
    "        \n",
    "        else:\n",
    "            # circular array : as increases, if it is full(ie. size==front) then, again starts from 0th index\n",
    "            self.front = (self.front+1) % self.size\n",
    "            \n",
    "    def peek(self):\n",
    "        return self.Queue[self.front]"
   ]
  },
  {
   "cell_type": "code",
   "execution_count": 206,
   "metadata": {},
   "outputs": [],
   "source": [
    "q = CircularQueue(8)"
   ]
  },
  {
   "cell_type": "code",
   "execution_count": 207,
   "metadata": {},
   "outputs": [],
   "source": [
    "# Enqueueing\n",
    "q.Enqueue(3)\n",
    "q.Enqueue(5)\n",
    "q.Enqueue(7)\n",
    "q.Enqueue(9)\n",
    "q.Enqueue(11)\n",
    "q.Enqueue(12)\n",
    "q.Enqueue(13)\n",
    "q.Enqueue(15)\n",
    "q.Enqueue(18)\n",
    "q.Enqueue(20)"
   ]
  },
  {
   "cell_type": "code",
   "execution_count": 208,
   "metadata": {},
   "outputs": [],
   "source": [
    "# Dequeueing\n",
    "q.Dequeue()"
   ]
  },
  {
   "cell_type": "code",
   "execution_count": 209,
   "metadata": {},
   "outputs": [
    {
     "data": {
      "text/plain": [
       "5"
      ]
     },
     "execution_count": 209,
     "metadata": {},
     "output_type": "execute_result"
    }
   ],
   "source": [
    "# peek/front/head after dequeue\n",
    "q.peek()"
   ]
  },
  {
   "cell_type": "markdown",
   "metadata": {},
   "source": [
    "### Queues - LinkedList Implementation                                             \n",
    "    \n",
    "    Linked List Implementation in queues is easy and we can solve this now. Linkedlist contains nodes that gives the data and the next node's pointer address. This can be acheived when both Enqueue and dequeue operations must be in constant size (O(n)).                \n",
    "\n",
    "While working queues on arrays implementation ,if it is full ie,.equals the size of the queue that we created and like to insert more then , we need to create new larger array and copy this which makes more computation. ie., O(n). So, here we are using linkedlist to soluve that problem...\n",
    " The steps to be taken to achieve this task,                 \n",
    " 1. Enqueueing the element in the head node of the linkedlist (append)                            \n",
    " 2. Dequeueing from the head node ie,. we can just change the head node's link to the next nodes.           "
   ]
  },
  {
   "cell_type": "code",
   "execution_count": 94,
   "metadata": {},
   "outputs": [],
   "source": [
    "# class node : contains both data and next node's address pointer value\n",
    "class Node:\n",
    "    def __init__(self,data):\n",
    "        self.data = data\n",
    "        self.next = None\n",
    "\n",
    "# Queue for linked list\n",
    "class Queue_ll:\n",
    "    def __init__(self):\n",
    "        # Initializing both to none . front as head(dequeue) node and rear as last(Enqueue) node \n",
    "        self.front = None\n",
    "        self.rear = None\n",
    "    \n",
    "    def IsEmpty(self):\n",
    "        '''returns True if Queue Linkedlist is Empty'''\n",
    "        # if head ie, front node is none then we can infer that linekdlist is empty\n",
    "        return self.front == None\n",
    "    \n",
    "    def Enqueue(self,new_data):\n",
    "        '''Inserts new node in the Queue linked list (Enqueue) which we update rear'''\n",
    "        # creating new node\n",
    "        new_node = Node(new_data)\n",
    "        \n",
    "        # if  rear node is empty then\n",
    "        if self.rear == None:\n",
    "            # making both front and rear to newnode's address\n",
    "            self.front = new_node\n",
    "            self.rear = new_node\n",
    "            return\n",
    "        \n",
    "        # oresle if it contains values,then we can update the rear as new_node\n",
    "        self.rear.next = new_node\n",
    "        self.rear = new_node\n",
    "        \n",
    "    def Dequeue(self):\n",
    "        '''Removing an element form the queue'''\n",
    "        temp = self.front\n",
    "        if self.IsEmpty():\n",
    "            return\n",
    "\n",
    "        \n",
    "        # if not empty then update front node as next node ie,. we are removing the front node\n",
    "        self.front = self.front.next\n",
    "        \n",
    "        # free the previus head node\n",
    "        temp = None\n",
    "    def peek(self):\n",
    "        if self.front != None:\n",
    "            return self.front.data"
   ]
  },
  {
   "cell_type": "code",
   "execution_count": 96,
   "metadata": {},
   "outputs": [],
   "source": [
    "q_ll = Queue_ll()\n",
    "\n",
    "# Enqueueing the values in the Queue linked list\n",
    "q_ll.Enqueue(3)\n",
    "q_ll.Enqueue(7)\n",
    "q_ll.Enqueue('Hari')\n",
    "q_ll.Enqueue(2.7878)\n",
    "q_ll.Enqueue('Surya')\n",
    "q_ll.Enqueue(1997)\n",
    "\n",
    "# Dequeueing from the front of the linkedlist\n",
    "q_ll.Dequeue()  # 3 removed\n",
    "q_ll.Dequeue()  # 7 removed"
   ]
  },
  {
   "cell_type": "code",
   "execution_count": 97,
   "metadata": {},
   "outputs": [
    {
     "data": {
      "text/plain": [
       "'Hari'"
      ]
     },
     "execution_count": 97,
     "metadata": {},
     "output_type": "execute_result"
    }
   ],
   "source": [
    "# Peek/front  of the Queue\n",
    "q_ll.peek()  # Hari printed"
   ]
  },
  {
   "cell_type": "markdown",
   "metadata": {},
   "source": [
    "### Queue - Doubly Linked list Implementation\n"
   ]
  },
  {
   "cell_type": "code",
   "execution_count": 125,
   "metadata": {},
   "outputs": [],
   "source": [
    "# class Node : contains prev address , data, next adress\n",
    "class Node:\n",
    "    def __init__(self,data):\n",
    "        self.prev = None\n",
    "        self.data = data\n",
    "        self.next = None\n",
    "        \n",
    "# class Queue Doubly linked list \n",
    "class Queue_dll:\n",
    "    def __init__(self):\n",
    "        # Initializing front and rear node\n",
    "        self.front = None\n",
    "        self.rear = None\n",
    "    \n",
    "    def IsEmpty(self):\n",
    "        '''check whether Queue is Empty if it is then return True'''\n",
    "        return self.front == None\n",
    "        \n",
    "    def Enqueue(self,new_data):\n",
    "        '''pushing/inserting data into the queue'''\n",
    "        # crearting new node\n",
    "        new_node = Node(new_data)\n",
    "\n",
    "        temp = self.front\n",
    "        \n",
    "        # if the linkedlist is empty then\n",
    "        if self.rear == None:\n",
    "            self.front = self.rear = new_node\n",
    "            self.front.prev = None\n",
    "            return\n",
    "        \n",
    "        # operations that performs enqueue\n",
    "        new_node.prev = self.rear\n",
    "        self.rear.next = new_node \n",
    "        self.rear = new_node\n",
    "    \n",
    "    def Dequeue(self):\n",
    "        '''removes/deletes the front elements from the queue'''\n",
    "        temp = self.front\n",
    "        # if queue is empty then\n",
    "        if self.IsEmpty():\n",
    "            return\n",
    "        \n",
    "        if self.front == self.rear:\n",
    "            self.front = self.rear = None\n",
    "            return \n",
    "        \n",
    "        # operations that performs dequeue\n",
    "        self.front = self.front.next\n",
    "        self.front.prev = None\n",
    "    \n",
    "    def peek(self):\n",
    "        '''returns the front of the Queue'''\n",
    "        if self.front == None:\n",
    "            return\n",
    "        return self.front.data"
   ]
  },
  {
   "cell_type": "code",
   "execution_count": 126,
   "metadata": {},
   "outputs": [],
   "source": [
    "q_dll = Queue_dll()\n",
    "\n",
    "# Enqueueing the items in the queue\n",
    "q_dll.Enqueue(3)\n",
    "q_dll.Enqueue(5)\n",
    "q_dll.Enqueue(200)\n",
    "q_dll.Enqueue('Machine Learning')\n",
    "\n",
    "# Deqeueing the element\n",
    "q_dll.Dequeue() # 3 removed\n",
    "q_dll.Dequeue() # 5 removed\n",
    "q_dll.Dequeue() # 200 removed"
   ]
  },
  {
   "cell_type": "code",
   "execution_count": 128,
   "metadata": {},
   "outputs": [
    {
     "data": {
      "text/plain": [
       "'Machine Learning'"
      ]
     },
     "execution_count": 128,
     "metadata": {},
     "output_type": "execute_result"
    }
   ],
   "source": [
    "# Peek/head \n",
    "q_dll.peek() # Machine Learning printed"
   ]
  }
 ],
 "metadata": {
  "kernelspec": {
   "display_name": "Python 3",
   "language": "python",
   "name": "python3"
  },
  "language_info": {
   "codemirror_mode": {
    "name": "ipython",
    "version": 3
   },
   "file_extension": ".py",
   "mimetype": "text/x-python",
   "name": "python",
   "nbconvert_exporter": "python",
   "pygments_lexer": "ipython3",
   "version": "3.7.1"
  }
 },
 "nbformat": 4,
 "nbformat_minor": 2
}
