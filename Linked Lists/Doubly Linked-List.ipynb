{
 "cells": [
  {
   "cell_type": "markdown",
   "metadata": {},
   "source": [
    "## Doubly Linked-list:                            \n",
    "The linkedlist which differs from singly- linkedlist that contains ,                 \n",
    "1. previous node's pointer value  \n",
    "2. Data            \n",
    "3. next node's pointer value               \n",
    " "
   ]
  },
  {
   "cell_type": "code",
   "execution_count": 2,
   "metadata": {},
   "outputs": [],
   "source": [
    "# Implementation of doubly linked list\n",
    "\n",
    "# Nede class which contains data, prev node's pointer , next node's pointer\n",
    "class Node:\n",
    "    def __init__(self,data):\n",
    "        self.next = None   # reference to next nodes in Double ll\n",
    "        self.data = data   # to store data\n",
    "        self.prev = None   # reference to previous nodes in double ll\n",
    "\n",
    "class DLL:\n",
    "    def __init__(self):\n",
    "        self.head = None"
   ]
  },
  {
   "cell_type": "markdown",
   "metadata": {},
   "source": [
    "### Insertion of Doubly linked-list:                                      \n",
    "The operations which we performed in the singly linked-list is performed easily by doubly linked list. But, we need to do some extra steps that to change pointer values for both next as well as previous.                        \n",
    "\n",
    "1. Insert at the front of DLL                 \n",
    "2. Insert at the back of the DLL               \n",
    "3. Insert a node after a given node                        \n",
    "4. Insert a node before a given node"
   ]
  },
  {
   "cell_type": "markdown",
   "metadata": {},
   "source": [
    "#### 1. Insert at the front of doubly linked list:"
   ]
  },
  {
   "cell_type": "code",
   "execution_count": 9,
   "metadata": {},
   "outputs": [],
   "source": [
    "# class Node\n",
    "class Node:\n",
    "    def __init__(self,data):\n",
    "        self.next = None   # reference to next nodes in Double ll\n",
    "        self.data = data   # to store data\n",
    "        self.prev = None   # reference to previous nodes in double ll\n",
    "\n",
    "# Class Doubly linked-list        \n",
    "class DLL:\n",
    "    def __init__(self):\n",
    "        self.head = None\n",
    "        \n",
    "    def push_front(self,new_data):\n",
    "        \n",
    "        # creating new node that contains data,prev and next node's pointer\n",
    "        new_node = Node(new_data)\n",
    "        \n",
    "        # pushing new node to the front of the dll\n",
    "        # nxt of the newnode will be head node's address (linked to the next nodes pointervalue)\n",
    "        new_node.next = self.head  \n",
    "        \n",
    "        # prevoius pointer node will be zero as it starts \n",
    "        new_node.prev = None\n",
    "        \n",
    "        # if head node is not empty then we can add this new node's address to the head node's prev pointer value\n",
    "        if self.head != None:\n",
    "            self.head.prev = new_node\n",
    "        \n",
    "        # changing head node as new node\n",
    "        self.head = new_node\n",
    "        \n",
    "    def print_list(self):\n",
    "        temp = self.head\n",
    "        \n",
    "        while temp != None:\n",
    "            print(temp.data,end = ' ')\n",
    "            temp = temp.next"
   ]
  },
  {
   "cell_type": "code",
   "execution_count": 10,
   "metadata": {},
   "outputs": [
    {
     "name": "stdout",
     "output_type": "stream",
     "text": [
      "9 7 5 3 "
     ]
    }
   ],
   "source": [
    "d_llist = DLL()\n",
    "\n",
    "# pushing the elements in the Dll\n",
    "d_llist.push_front(3)\n",
    "d_llist.push_front(5)\n",
    "d_llist.push_front(7)\n",
    "d_llist.push_front(9)\n",
    "\n",
    "#printing\n",
    "d_llist.print_list()"
   ]
  },
  {
   "cell_type": "markdown",
   "metadata": {},
   "source": [
    "#### 2.Inserting at the back  of Doubly linked list:"
   ]
  },
  {
   "cell_type": "code",
   "execution_count": 16,
   "metadata": {},
   "outputs": [],
   "source": [
    "# class node\n",
    "class Node:\n",
    "    def __init__(self,data):\n",
    "        self.next = None   # reference to next nodes in Double ll\n",
    "        self.data = data   # to store data\n",
    "        self.prev = None   # reference to previous nodes in double ll\n",
    "\n",
    "#Dll node\n",
    "class DLL:\n",
    "    def __init__(self):\n",
    "        self.head = None\n",
    "    \n",
    "    def append_last(self,new_data):\n",
    "        '''appending the node in DLL'''\n",
    "        # creating new node that contains data,prev , next pointer value\n",
    "        new_node = Node(new_data)\n",
    "        \n",
    "        # new node's next pointer will be Null (there is no next node .)\n",
    "        new_node.next = None\n",
    "        \n",
    "        # creatinng variable that contains last node while traversing\n",
    "        last_node = self.head\n",
    "        \n",
    "        # if head node is Null\n",
    "        if self.head == None:\n",
    "            new_node.prev = self.head\n",
    "            self.head = new_node\n",
    "            return\n",
    "        \n",
    "        # Traversing along the Dll\n",
    "        while last_node.next != None:\n",
    "            last_node = last_node.next\n",
    "        \n",
    "        # last node's next pointer will be new_node address\n",
    "        last_node.next = new_node\n",
    "        \n",
    "        #new node's prev pointer will be last_node's address\n",
    "        new_node.prev = last_node\n",
    "    \n",
    "    def print_list(self):\n",
    "        '''printing elements in the dll'''\n",
    "        temp = self.head\n",
    "        \n",
    "        while temp != None:\n",
    "            print(temp.data,end = ' ')\n",
    "            temp = temp.next"
   ]
  },
  {
   "cell_type": "code",
   "execution_count": 17,
   "metadata": {},
   "outputs": [
    {
     "name": "stdout",
     "output_type": "stream",
     "text": [
      "2 10 20 "
     ]
    }
   ],
   "source": [
    "# creating DLL\n",
    "d_llist = DLL()\n",
    "\n",
    "# appending values\n",
    "d_llist.append_last(2)\n",
    "d_llist.append_last(10)\n",
    "d_llist.append_last(20)\n",
    "\n",
    "# printing \n",
    "d_llist.print_list()"
   ]
  },
  {
   "cell_type": "markdown",
   "metadata": {},
   "source": [
    "#### 3.Insertion after a given node"
   ]
  },
  {
   "cell_type": "code",
   "execution_count": 20,
   "metadata": {},
   "outputs": [],
   "source": [
    "# class node\n",
    "class Node:\n",
    "    def __init__(self,data):\n",
    "        self.next = None   # reference to next nodes in Double ll\n",
    "        self.data = data   # to store data\n",
    "        self.prev = None   # reference to previous nodes in double ll\n",
    "\n",
    "#Dll node\n",
    "class DLL:\n",
    "    def __init__(self):\n",
    "        self.head = None\n",
    "        \n",
    "    def append_last(self,new_data):\n",
    "        '''appending the node in DLL'''\n",
    "        # creating new node that contains data,prev , next pointer value\n",
    "        new_node = Node(new_data)\n",
    "        \n",
    "        # new node's next pointer will be Null (there is no next node .)\n",
    "        new_node.next = None\n",
    "        \n",
    "        # creatinng variable that contains last node while traversing\n",
    "        last_node = self.head\n",
    "        \n",
    "        # if head node is Null\n",
    "        if self.head == None:\n",
    "            new_node.prev = self.head\n",
    "            self.head = new_node\n",
    "            return\n",
    "        \n",
    "        # Traversing along the Dll\n",
    "        while last_node.next != None:\n",
    "            last_node = last_node.next\n",
    "        \n",
    "        # last node's next pointer will be new_node address\n",
    "        last_node.next = new_node\n",
    "        \n",
    "        #new node's prev pointer will be last_node's address\n",
    "        new_node.prev = last_node\n",
    "\n",
    "    def InsertAfter(self,prev_node,new_data):\n",
    "        '''Insertion of new node after the given node'''\n",
    "        #creating new node\n",
    "        new_node = Node(new_data)\n",
    "        \n",
    "        # next_node \n",
    "        next_node = prev_node.next\n",
    "        \n",
    "        # if prev node is empty then\n",
    "        if prev_node == None:\n",
    "            print('There is no node available here')\n",
    "            return\n",
    "        \n",
    "        # changing the prev node's next pointer to new_node address\n",
    "        prev_node.next = new_node\n",
    "        \n",
    "        # changing the new_nod's previous and next pointer that points to insert after previous node\n",
    "        new_node.prev = prev_node\n",
    "        \n",
    "        new_node.next = next_node\n",
    "    \n",
    "    def print_list(self):\n",
    "        temp = self.head\n",
    "        \n",
    "        while temp != None:\n",
    "            print(temp.data,end = ' ')\n",
    "            temp = temp.next"
   ]
  },
  {
   "cell_type": "code",
   "execution_count": 22,
   "metadata": {},
   "outputs": [
    {
     "name": "stdout",
     "output_type": "stream",
     "text": [
      "2 3 4 6 7 "
     ]
    }
   ],
   "source": [
    "# creating dllist\n",
    "d_llist = DLL()\n",
    "\n",
    "d_llist.append_last(2)\n",
    "d_llist.append_last(3)\n",
    "d_llist.append_last(4)\n",
    "d_llist.append_last(6)\n",
    "d_llist.append_last(7)\n",
    "\n",
    "#printing\n",
    "d_llist.print_list()"
   ]
  },
  {
   "cell_type": "code",
   "execution_count": 24,
   "metadata": {},
   "outputs": [],
   "source": [
    "# Inserting\n",
    "d_llist.InsertAfter(d_llist.head.next.next,5)"
   ]
  },
  {
   "cell_type": "code",
   "execution_count": 25,
   "metadata": {},
   "outputs": [
    {
     "name": "stdout",
     "output_type": "stream",
     "text": [
      "2 3 4 5 6 7 "
     ]
    }
   ],
   "source": [
    "# printing\n",
    "d_llist.print_list()"
   ]
  },
  {
   "cell_type": "markdown",
   "metadata": {},
   "source": [
    "#### 4.Insert a node before a given node"
   ]
  },
  {
   "cell_type": "code",
   "execution_count": 27,
   "metadata": {},
   "outputs": [],
   "source": [
    "class Node:\n",
    "    def __init__(self,data):\n",
    "        self.next = None   # reference to next nodes in Double ll\n",
    "        self.data = data   # to store data\n",
    "        self.prev = None   # reference to previous nodes in double ll\n",
    "\n",
    "#Dll node\n",
    "class DLL:\n",
    "    def __init__(self):\n",
    "        self.head = None\n",
    "    \n",
    "    def InsertBefore(self,given_node,new_data):\n",
    "        '''Insertion of new node after the given node'''\n",
    "        #creating new node\n",
    "        new_node = Node(new_data)\n",
    "        \n",
    "        # next_node \n",
    "        prev_node = given_node.prev\n",
    "        \n",
    "        # if prev node is empty then\n",
    "        if given_node == None:\n",
    "            print('There is no node available here')\n",
    "            return\n",
    "        \n",
    "        # changing the prev node's next pointer to new_node address\n",
    "        prev_node.next = new_node\n",
    "        \n",
    "        # changing the new_nod's previous and next pointer that points to insert after previous node\n",
    "        new_node.prev = prev_node\n",
    "        \n",
    "        new_node.next = given_node\n",
    "    \n",
    "        \n",
    "    def append_last(self,new_data):\n",
    "        '''appending the node in DLL'''\n",
    "        # creating new node that contains data,prev , next pointer value\n",
    "        new_node = Node(new_data)\n",
    "        \n",
    "        # new node's next pointer will be Null (there is no next node .)\n",
    "        new_node.next = None\n",
    "        \n",
    "        # creatinng variable that contains last node while traversing\n",
    "        last_node = self.head\n",
    "        \n",
    "        # if head node is Null\n",
    "        if self.head == None:\n",
    "            new_node.prev = self.head\n",
    "            self.head = new_node\n",
    "            return\n",
    "        \n",
    "        # Traversing along the Dll\n",
    "        while last_node.next != None:\n",
    "            last_node = last_node.next\n",
    "        \n",
    "        # last node's next pointer will be new_node address\n",
    "        last_node.next = new_node\n",
    "        \n",
    "        #new node's prev pointer will be last_node's address\n",
    "        new_node.prev = last_node\n",
    "\n",
    "\n",
    "    def print_list(self):\n",
    "        temp = self.head\n",
    "        \n",
    "        while temp != None:\n",
    "            print(temp.data,end = ' ')\n",
    "            temp = temp.next"
   ]
  },
  {
   "cell_type": "code",
   "execution_count": 28,
   "metadata": {},
   "outputs": [
    {
     "name": "stdout",
     "output_type": "stream",
     "text": [
      "1 2 4 5 "
     ]
    }
   ],
   "source": [
    "#creating\n",
    "d_llist = DLL()\n",
    "\n",
    "d_llist.append_last(1)\n",
    "d_llist.append_last(2)\n",
    "d_llist.append_last(4)\n",
    "d_llist.append_last(5)\n",
    "\n",
    "#printing\n",
    "d_llist.print_list()"
   ]
  },
  {
   "cell_type": "code",
   "execution_count": 29,
   "metadata": {},
   "outputs": [],
   "source": [
    "#Inserting before the given node\n",
    "d_llist.InsertBefore(d_llist.head.next.next,3)"
   ]
  },
  {
   "cell_type": "code",
   "execution_count": 30,
   "metadata": {},
   "outputs": [
    {
     "name": "stdout",
     "output_type": "stream",
     "text": [
      "1 2 3 4 5 "
     ]
    }
   ],
   "source": [
    "#printing\n",
    "d_llist.print_list()"
   ]
  },
  {
   "cell_type": "markdown",
   "metadata": {},
   "source": [
    "### Deletion in Doubly Linked-List:                     \n",
    "1. Deletion of an element in Doubly ll,\n",
    "2. Deletion of element at a given position."
   ]
  },
  {
   "cell_type": "markdown",
   "metadata": {},
   "source": [
    "#### 1. Deletion of an element in Doubly linkedlist,"
   ]
  },
  {
   "cell_type": "code",
   "execution_count": 1,
   "metadata": {},
   "outputs": [],
   "source": [
    "# Node class\n",
    "class Node:\n",
    "    def __init__(self,data):\n",
    "        self.next = None   # reference to next nodes in Double ll\n",
    "        self.data = data   # to store data\n",
    "        self.prev = None   # reference to previous nodes in double ll\n",
    "\n",
    "#Dll node\n",
    "class DLL:\n",
    "    def __init__(self):\n",
    "        #head pointer\n",
    "        self.head = None\n",
    "\n",
    "    def append(self,new_data):\n",
    "        #creating new node\n",
    "        new_node = Node(new_data)\n",
    "        \n",
    "        # if suppose, head node is empty thwn\n",
    "        if self.head == None:\n",
    "            self.head = new_node\n",
    "            return\n",
    "        \n",
    "        # if doubly linkedlist contains Nodes, then\n",
    "        last_node = self.head\n",
    "        \n",
    "        while last_node.next != None:\n",
    "            last_node = last_node.next\n",
    "        \n",
    "        # appending the value : previous pointer value of new node to be the last node's address\n",
    "        last_node.next = new_node\n",
    "        new_node.prev = last_node\n",
    "        \n",
    "    def deleteNode(self,key):\n",
    "        '''Deleting the Node that contains elelment in the DLL'''\n",
    "        # taking head node in a temporary variable\n",
    "        temp = self.head\n",
    "        \n",
    "        # if head node is empty then return nothing\n",
    "        if self.head == None:\n",
    "            return\n",
    "        \n",
    "        # if not empty and it contains the element, then\n",
    "        if (temp != None) and (temp.data == key):\n",
    "            self.head = temp.next\n",
    "            temp = None\n",
    "            return\n",
    "        prev_node = None\n",
    "        # Looping till the node that we want to delete\n",
    "        while temp != None:\n",
    "            if temp.data == key:\n",
    "                break\n",
    "            prev_node = temp\n",
    "            temp = temp.next\n",
    "        \n",
    "        next_node = temp.next\n",
    "        \n",
    "        # updating next and previous node that deletes the actual node\n",
    "        prev_node.next = next_node\n",
    "        next_node.prev = prev_node\n",
    "        \n",
    "        temp = None\n",
    "                    \n",
    "    def print_list(self):\n",
    "        temp = self.head\n",
    "        while temp != None:\n",
    "            print(temp.data,end = ' ')\n",
    "            temp = temp.next"
   ]
  },
  {
   "cell_type": "code",
   "execution_count": 2,
   "metadata": {},
   "outputs": [],
   "source": [
    "d_llist = DLL()\n",
    "\n",
    "d_llist.append(5)\n",
    "d_llist.append(3)\n",
    "d_llist.append(9)\n",
    "d_llist.append(7)"
   ]
  },
  {
   "cell_type": "code",
   "execution_count": 3,
   "metadata": {},
   "outputs": [
    {
     "name": "stdout",
     "output_type": "stream",
     "text": [
      "5 3 9 7 "
     ]
    }
   ],
   "source": [
    "#printing\n",
    "d_llist.print_list()"
   ]
  },
  {
   "cell_type": "code",
   "execution_count": 4,
   "metadata": {},
   "outputs": [],
   "source": [
    "#deleting 9\n",
    "d_llist.deleteNode(9)"
   ]
  },
  {
   "cell_type": "code",
   "execution_count": 5,
   "metadata": {},
   "outputs": [
    {
     "name": "stdout",
     "output_type": "stream",
     "text": [
      "5 3 7 "
     ]
    }
   ],
   "source": [
    "d_llist.print_list()"
   ]
  },
  {
   "cell_type": "markdown",
   "metadata": {},
   "source": [
    "#### 2. Deletion of node at a given position:"
   ]
  },
  {
   "cell_type": "code",
   "execution_count": 53,
   "metadata": {},
   "outputs": [],
   "source": [
    "# Node class\n",
    "class Node:\n",
    "    def __init__(self,data):\n",
    "        self.next = None   # reference to next nodes in Double ll\n",
    "        self.data = data   # to store data\n",
    "        self.prev = None   # reference to previous nodes in double ll\n",
    "\n",
    "#Dll node\n",
    "class DLL:\n",
    "    def __init__(self):\n",
    "        #head pointer\n",
    "        self.head = None\n",
    "        \n",
    "    def push(self,new_data):\n",
    "        '''function that pushes the elements in the front'''\n",
    "        temp = self.head\n",
    "        \n",
    "        # creating the new node\n",
    "        new_node = Node(new_data)\n",
    "        \n",
    "        new_node.next = temp\n",
    "        new_node.prev = None\n",
    "\n",
    "            \n",
    "        # or if head node is not empty then  pushing nodes front\n",
    "        if temp != None:\n",
    "            temp.prev = new_node\n",
    "        \n",
    "        self.head = new_node\n",
    "        \n",
    "    def deleteNode(self,n):\n",
    "        '''deletes node at a given position'''\n",
    "        # creating temporary vaqriable\n",
    "        temp = self.head\n",
    "        \n",
    "        # if head node is None then return nothing\n",
    "        if temp == None:\n",
    "            return\n",
    "        \n",
    "        # traversing till the deletion node\n",
    "        for i in range(n-1):\n",
    "            temp = temp.next\n",
    "        \n",
    "        # previous node of doubly linked list\n",
    "        prev_node = temp.prev\n",
    "        next_node = temp.next\n",
    "        \n",
    "        # changing prev and next node with respect to the deletion node\n",
    "        prev_node.next = next_node\n",
    "        next_node.prev = prev_node\n",
    "        \n",
    "        # freeing the space\n",
    "        temp = None\n",
    "        \n",
    "        \n",
    "    def print_list(self):\n",
    "        temp = self.head\n",
    "        \n",
    "        while temp != None:\n",
    "            print(temp.data,end = ' ')\n",
    "            temp = temp.next\n",
    "        "
   ]
  },
  {
   "cell_type": "code",
   "execution_count": 54,
   "metadata": {},
   "outputs": [
    {
     "name": "stdout",
     "output_type": "stream",
     "text": [
      "5 9 8 3 "
     ]
    }
   ],
   "source": [
    "# Doubly linked list\n",
    "d_llist = DLL()\n",
    "\n",
    "d_llist.push(3)\n",
    "d_llist.push(8)\n",
    "d_llist.push(9)\n",
    "d_llist.push(5)\n",
    "\n",
    "#printing\n",
    "d_llist.print_list()"
   ]
  },
  {
   "cell_type": "code",
   "execution_count": 55,
   "metadata": {},
   "outputs": [],
   "source": [
    "# deleting the second position\n",
    "d_llist.deleteNode(2)"
   ]
  },
  {
   "cell_type": "code",
   "execution_count": 56,
   "metadata": {},
   "outputs": [
    {
     "name": "stdout",
     "output_type": "stream",
     "text": [
      "5 8 3 "
     ]
    }
   ],
   "source": [
    "#printing aftwer deletion'\n",
    "d_llist.print_list()"
   ]
  },
  {
   "cell_type": "code",
   "execution_count": null,
   "metadata": {},
   "outputs": [],
   "source": []
  }
 ],
 "metadata": {
  "kernelspec": {
   "display_name": "Python 3",
   "language": "python",
   "name": "python3"
  },
  "language_info": {
   "codemirror_mode": {
    "name": "ipython",
    "version": 3
   },
   "file_extension": ".py",
   "mimetype": "text/x-python",
   "name": "python",
   "nbconvert_exporter": "python",
   "pygments_lexer": "ipython3",
   "version": "3.7.1"
  }
 },
 "nbformat": 4,
 "nbformat_minor": 2
}
