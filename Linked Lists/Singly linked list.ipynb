{
 "cells": [
  {
   "cell_type": "markdown",
   "metadata": {},
   "source": [
    "# Linked Lists :                        \n",
    "For arrays, this implementation is just easy like , the memory allocation will be contiguous(continuous).              \n",
    "The elements of the list in the memory are stored in a non-contiguous ways that is linked to each other."
   ]
  },
  {
   "cell_type": "markdown",
   "metadata": {},
   "source": [
    "Linked list is the list of elements that is present in arbitary memory address where the memory blocks were linked to each other.            \n",
    "This is required when we need to ensure the memory management and time complexity of the program that we write.                   \n",
    "for example,                \n",
    "If ,the values in the arrays are stacked as contiguous ie.(in continuous manner). "
   ]
  },
  {
   "cell_type": "code",
   "execution_count": 1,
   "metadata": {},
   "outputs": [
    {
     "name": "stdout",
     "output_type": "stream",
     "text": [
      "140723650605904\n",
      "140723650605936\n",
      "140723650605968\n",
      "140723650606000\n",
      "140723650606064\n",
      "\n"
     ]
    }
   ],
   "source": [
    "a = [1,2,3,4,6]\n",
    "for i in a:\n",
    "    print(id(i))\n",
    "print()"
   ]
  },
  {
   "cell_type": "markdown",
   "metadata": {},
   "source": [
    "Each node of the list consist of ,           \n",
    "1. data,           \n",
    "2. pointer to the next node.\n",
    "\n",
    "\n",
    "and  ,            \n",
    "Linked list consist of head in which first node element is updated"
   ]
  },
  {
   "cell_type": "code",
   "execution_count": 2,
   "metadata": {},
   "outputs": [],
   "source": [
    "## Implementation\n",
    "\n",
    "# Node class\n",
    "class Node:\n",
    "    def __init__(self,data):\n",
    "        self.data = data   # data\n",
    "        self.next = None   # Initializing Pointer to the next node as null\n",
    "\n",
    "##  linked list class\n",
    "class Linkedlist:\n",
    "    def __init__(self):\n",
    "        self.head = None  # Initializing the first node to be null"
   ]
  },
  {
   "cell_type": "markdown",
   "metadata": {},
   "source": [
    " Let us create a simple linked list with 3 nodes,            \n",
    " **A|+ ---->B|+ ---->C|+**                      \n",
    " where, A,B,C - data. + - pointers and ----> linkers"
   ]
  },
  {
   "cell_type": "code",
   "execution_count": 3,
   "metadata": {},
   "outputs": [],
   "source": [
    "# Calling linked list class to define the head . Here head is 3.ie. first node\n",
    "llist = Linkedlist()\n",
    "# 1st node\n",
    "llist.head  = Node(3)\n",
    "# 2nd node\n",
    "second = Node(5)\n",
    "# 3rd node\n",
    "third = Node(7)"
   ]
  },
  {
   "cell_type": "markdown",
   "metadata": {},
   "source": [
    "Now, linking the list of three nodes together,"
   ]
  },
  {
   "cell_type": "code",
   "execution_count": 4,
   "metadata": {},
   "outputs": [],
   "source": [
    "llist.head.next = second\n",
    "second.next = third  # second element is linked(next) to the third element\n",
    "third.next = 0   # last element's pointer as 0, that is not linked to anything"
   ]
  },
  {
   "cell_type": "markdown",
   "metadata": {},
   "source": [
    "**Linked List Traversal:**                 \n",
    "Traversing the created lis means printing all the elements in the linked list.For this , we can define the seperate method inside the linkedlist class"
   ]
  },
  {
   "cell_type": "code",
   "execution_count": 7,
   "metadata": {},
   "outputs": [],
   "source": [
    "## Implementation\n",
    "\n",
    "# Node class\n",
    "class Node:\n",
    "    def __init__(self,data):\n",
    "        self.data = data   # data\n",
    "        self.next = None   # Initializing Pointer to the next node as null\n",
    "\n",
    "##  linked list class\n",
    "class Linkedlist:\n",
    "    def __init__(self):\n",
    "        self.head = None  # Initializing the first node to be null\n",
    "        \n",
    "    def print_list(self):\n",
    "        temp = self.head\n",
    "        while (temp):\n",
    "            print(temp.data)\n",
    "            temp = temp.next\n",
    "        "
   ]
  },
  {
   "cell_type": "code",
   "execution_count": 8,
   "metadata": {},
   "outputs": [
    {
     "data": {
      "text/plain": [
       "[4, 7, 8]"
      ]
     },
     "execution_count": 8,
     "metadata": {},
     "output_type": "execute_result"
    }
   ],
   "source": [
    "# Nodes creation\n",
    "llist = Linkedlist()\n",
    "llist.head = Node(4)\n",
    "second = Node(7)\n",
    "third = Node(8)\n",
    "\n",
    "#Linking\n",
    "llist.head.next = second\n",
    "second.next = third\n",
    "third.next = 0\n",
    "\n",
    "llist.print_list()"
   ]
  },
  {
   "cell_type": "markdown",
   "metadata": {},
   "source": [
    "## Insertion of Nodes in a linkedList.            \n",
    "1. front of linkedlist                  \n",
    "2. End of the linkedlist                \n",
    "3. After a given node."
   ]
  },
  {
   "cell_type": "markdown",
   "metadata": {},
   "source": [
    "#### 1. Inserting on the front of linkedlist\n"
   ]
  },
  {
   "cell_type": "code",
   "execution_count": 10,
   "metadata": {},
   "outputs": [],
   "source": [
    "# Node class\n",
    "class Node:\n",
    "    def __init__(self,data):\n",
    "        self.data = data # Initializing data\n",
    "        self.next = None # Initializing pointer variable as None\n",
    "#Linked list class\n",
    "class LinkedList:\n",
    "    def __init__(self):\n",
    "        self.head = None  # Initializing head node as None\n",
    "    \n",
    "    def print_list(self):\n",
    "        '''prints the linked list values'''\n",
    "        temp = self.head\n",
    "        while temp:\n",
    "            print(temp.data,end=' ')\n",
    "            temp = temp.next\n",
    "    \n",
    "    def push_front(self,new_node):\n",
    "        '''Inserting new value in  front of the linkedlist'''\n",
    "        new_node = Node(new_node)  # Creating the new value to the node\n",
    "        new_node.next = self.head  # Linking / pointing the previous head node to this new value\n",
    "        self.head = new_node       # Changing the new value as head node"
   ]
  },
  {
   "cell_type": "code",
   "execution_count": 11,
   "metadata": {},
   "outputs": [
    {
     "name": "stdout",
     "output_type": "stream",
     "text": [
      "1 3 5 "
     ]
    }
   ],
   "source": [
    "# Inserting the nodes and linking it to the next value\n",
    "llist = LinkedList()\n",
    "\n",
    "node_1 = Node(1)\n",
    "node_2 = Node(3)\n",
    "node_3 = Node(5)\n",
    "\n",
    "llist.head = node_1\n",
    "node_1.next = node_2\n",
    "node_2.next = node_3\n",
    "node_3.next = 0\n",
    "\n",
    "llist.print_list()"
   ]
  },
  {
   "cell_type": "code",
   "execution_count": 12,
   "metadata": {},
   "outputs": [],
   "source": [
    "# Inserting the new node to the front of the linkedlist\n",
    "llist.push_front(7)"
   ]
  },
  {
   "cell_type": "code",
   "execution_count": 13,
   "metadata": {},
   "outputs": [
    {
     "name": "stdout",
     "output_type": "stream",
     "text": [
      "7 1 3 5 "
     ]
    }
   ],
   "source": [
    "# printing the llist\n",
    "llist.print_list()"
   ]
  },
  {
   "cell_type": "markdown",
   "metadata": {},
   "source": [
    "This , finally prints the new value (7) as head and insert to the front of the linkedlist. "
   ]
  },
  {
   "cell_type": "markdown",
   "metadata": {},
   "source": [
    "#### 2.Inserting the node at the nth position of the linkedlist\n"
   ]
  },
  {
   "cell_type": "code",
   "execution_count": 35,
   "metadata": {},
   "outputs": [],
   "source": [
    "# Node class\n",
    "class Node:\n",
    "    def __init__(self,data):\n",
    "        self.data = data # Initializing data\n",
    "        self.next = None # Initializing pointer variable as None\n",
    "#Linked list class\n",
    "class LinkedList:\n",
    "    def __init__(self):\n",
    "        self.head = None  # Initializing head node as None\n",
    "    \n",
    "    def print_list(self):\n",
    "        '''prints the linked list values'''\n",
    "        temp = self.head\n",
    "        while temp:\n",
    "            print(temp.data,end=' ')\n",
    "            temp = temp.next\n",
    "    \n",
    "    def InsertAfter(self,prev_node,new_data):\n",
    "        '''Inserts the node at the nth position.'''\n",
    "        new_node = Node(new_data)  # Creating new node that contains data and the pointer as null\n",
    "        new_node.next = prev_node.next  # adding the pointer variable of previous node to the new node that I created\n",
    "        prev_node.next = new_node  # Changing previous node pointer variable to the new node's address\n",
    "        \n",
    "    "
   ]
  },
  {
   "cell_type": "code",
   "execution_count": 36,
   "metadata": {},
   "outputs": [
    {
     "name": "stdout",
     "output_type": "stream",
     "text": [
      "12 24 36 48 63 "
     ]
    }
   ],
   "source": [
    "node_1 = Node(12)\n",
    "node_2 = Node(24)\n",
    "node_3 = Node(36)\n",
    "node_4 = Node(48)\n",
    "node_5 = Node(63)\n",
    "\n",
    "llist = LinkedList()\n",
    "# adding head as first node\n",
    "llist.head = node_1\n",
    "#Linking node\n",
    "node_1.next = node_2\n",
    "node_2.next = node_3\n",
    "node_3.next = node_4\n",
    "node_4.next = node_5\n",
    "node_5.next = None   # Ends here\n",
    "\n",
    "# printing linkedlist\n",
    "llist.print_list()"
   ]
  },
  {
   "cell_type": "code",
   "execution_count": 37,
   "metadata": {},
   "outputs": [
    {
     "name": "stdout",
     "output_type": "stream",
     "text": [
      "12 24 36 48 54 63 "
     ]
    }
   ],
   "source": [
    "# Adding 54 to the 5th position\n",
    "llist.InsertAfter(node_4,54)\n",
    "\n",
    "# Again printing the linked lsit to see if it is inserted in the 5 th position\n",
    "llist.print_list()"
   ]
  },
  {
   "cell_type": "markdown",
   "metadata": {},
   "source": [
    "#### 3.Inserting the node at the end of Linkedlist"
   ]
  },
  {
   "cell_type": "code",
   "execution_count": 46,
   "metadata": {},
   "outputs": [],
   "source": [
    "# Node class\n",
    "class Node:\n",
    "    def __init__(self,data):\n",
    "        self.data = data # Initializing data\n",
    "        self.next = None # Initializing pointer variable as None\n",
    "#Linked list class\n",
    "class LinkedList:\n",
    "    def __init__(self):\n",
    "        self.head = None  # Initializing head node as None\n",
    "    \n",
    "    def print_list(self):\n",
    "        '''prints the linked list values'''\n",
    "        temp = self.head\n",
    "        while temp:\n",
    "            print(temp.data,end=' ')\n",
    "            temp = temp.next\n",
    "    \n",
    "    def append_last(self,new_data):\n",
    "        new_node = Node(new_data)   # Creating new node having both data and pointer value\n",
    "        \n",
    "        # if suppose the liked list is empty then,\n",
    "        if self.head == None:\n",
    "            self.head = new_node\n",
    "            return\n",
    "        \n",
    "        last_node = self.head\n",
    "        while last_node.next:\n",
    "            last_node = last_node.next\n",
    "        \n",
    "        last_node.next = new_node\n",
    "    \n",
    "        \n",
    "        "
   ]
  },
  {
   "cell_type": "code",
   "execution_count": 50,
   "metadata": {},
   "outputs": [
    {
     "name": "stdout",
     "output_type": "stream",
     "text": [
      "A B C D "
     ]
    }
   ],
   "source": [
    "# Creating nodes\n",
    "node_A = Node('A')\n",
    "node_B = Node('B')\n",
    "node_C = Node('C')\n",
    "node_D = Node('D')\n",
    "\n",
    "# Linking nodes with oneanother\n",
    "llist = LinkedList()\n",
    "llist.head = node_A\n",
    "node_A.next = node_B\n",
    "node_B.next = node_C\n",
    "node_C.next = node_D\n",
    "node_D.next = None\n",
    "\n",
    "#printing linkedlist\n",
    "llist.print_list()"
   ]
  },
  {
   "cell_type": "code",
   "execution_count": 51,
   "metadata": {},
   "outputs": [
    {
     "name": "stdout",
     "output_type": "stream",
     "text": [
      "A B C D F "
     ]
    }
   ],
   "source": [
    "# Appending the last node inthe linkedlist\n",
    "llist.append_last('F')\n",
    "\n",
    "# printing to see the linkedlist whether it is appended or not\n",
    "llist.print_list()"
   ]
  },
  {
   "cell_type": "markdown",
   "metadata": {},
   "source": [
    "### Combining all three to make the entire linked list class"
   ]
  },
  {
   "cell_type": "code",
   "execution_count": 52,
   "metadata": {},
   "outputs": [],
   "source": [
    "# Node class containing both data and pointer value\n",
    "# Node class\n",
    "class Node:\n",
    "    def __init__(self,data):\n",
    "        self.data = data\n",
    "        self.next = None\n",
    "\n",
    "# linked list class\n",
    "class LinkedList:\n",
    "    def __init__(self):\n",
    "        self.head = None  # Initializing head as None (first node)\n",
    "    \n",
    "    def print_list(self):\n",
    "        '''printing all the elements in the linkedlist'''\n",
    "        temp = self.head\n",
    "        while temp:\n",
    "            print(temp.data,end=' ')\n",
    "            temp = temp.next\n",
    "    \n",
    "    def push_front(self,new_data):\n",
    "        '''Inserting the data in the front of linkedlist'''\n",
    "        new_node = Node(new_data)  # Creating the node that has both data and pointer value\n",
    "        # process for pushing the data in the front of linked list:\n",
    "        new_node.next = self.head\n",
    "        self.head = new_node\n",
    "    \n",
    "    def InsertAfter(self,prev_node,new_data):\n",
    "        '''Inserting the values in the nth position in linked list'''\n",
    "        new_node = Node(new_data)  # created the node contains data and pointer value\n",
    "        # process for Inserting new values in the nth position in linkedlist\n",
    "        new_node.next = prev_node.next\n",
    "        prev_node.next = new_node\n",
    "    \n",
    "    def append_last(self,new_data):\n",
    "        '''appending the value in the linkedlist'''\n",
    "        new_node = Node(new_data) # creating the node that comntains both data and pointer value\n",
    "        if self.head is None:  # if the list is empty , then \n",
    "            self.head = new_node\n",
    "            \n",
    "        last_node = self.head\n",
    "        while last_node.next:\n",
    "            last_node = last_node.next\n",
    "        \n",
    "        last_node.next = new_node"
   ]
  },
  {
   "cell_type": "code",
   "execution_count": 57,
   "metadata": {},
   "outputs": [
    {
     "name": "stdout",
     "output_type": "stream",
     "text": [
      "Hari Sathish Mr.DhanandJay "
     ]
    }
   ],
   "source": [
    "# creating nodes\n",
    "a = Node('Hari')\n",
    "b = Node('Sathish')\n",
    "c = Node('Mr.DhanandJay')\n",
    "\n",
    "# Linking nodes with each other\n",
    "llist = LinkedList()\n",
    "llist.head = a\n",
    "a.next = b\n",
    "b.next = c\n",
    "c.next = None\n",
    "\n",
    "#printing \n",
    "llist.print_list()\n"
   ]
  },
  {
   "cell_type": "code",
   "execution_count": 58,
   "metadata": {},
   "outputs": [
    {
     "name": "stdout",
     "output_type": "stream",
     "text": [
      "1 Hari 4 Sathish Mr.DhanandJay 3 "
     ]
    }
   ],
   "source": [
    "#Appending \n",
    "llist.append_last(3)\n",
    "\n",
    "# Inserting the value\n",
    "llist.InsertAfter(a,4)\n",
    "\n",
    "# push in the front\n",
    "llist.push_front(1)\n",
    "\n",
    "#prinitng\n",
    "llist.print_list()"
   ]
  },
  {
   "cell_type": "markdown",
   "metadata": {},
   "source": [
    "## Deleting the node from the linkedlist                       \n",
    "1. Delete the node with respect of the value\n",
    "2. Delete the node at nth position of linkedlist,            \n",
    "3. Deleting the node from the end of linkedlist\n"
   ]
  },
  {
   "cell_type": "markdown",
   "metadata": {},
   "source": [
    "#### 1. Delete the node with respect of the value"
   ]
  },
  {
   "cell_type": "code",
   "execution_count": 12,
   "metadata": {},
   "outputs": [],
   "source": [
    "# Node class\n",
    "class Node:\n",
    "    def __init__(self,data):\n",
    "        self.data = data\n",
    "        self.next = None\n",
    "\n",
    "# Linked list class\n",
    "class LinkedList:\n",
    "    def __init__(self):\n",
    "        self.head = None\n",
    "        \n",
    "    def print_list(self):\n",
    "        temp = self.head\n",
    "        while temp:\n",
    "            print(temp.data,end=' ')\n",
    "            temp = temp.next\n",
    "    \n",
    "    def deleteNode(self,key): # Key is the node value which we want to delete\n",
    "        '''Delets the node fromt the linkedlist'''\n",
    "        temp = self.head\n",
    "        \n",
    "        # Chck if, the Head has key then that need to be deleted\n",
    "        if (temp is not None) and temp.data == key:\n",
    "            self.head = temp.next   # Then, changing the head value to the next value\n",
    "            temp = None     # free space the past head node\n",
    "        \n",
    "        # traversing the linkedlist to delete the node if it has same as key and certain conditions\n",
    "        while (temp is not None):\n",
    "            if temp.data == key:   # If the node that has key value(data) in it then,\n",
    "                break\n",
    "            prev = temp\n",
    "            temp = temp.next\n",
    "        \n",
    "        # if head is None , then return nothing\n",
    "        if temp == None:\n",
    "            return\n",
    "        \n",
    "        # Unlink the node from linkedlist\n",
    "        prev.next = temp.next\n",
    "        temp = None  # free space \n",
    "        \n",
    "        "
   ]
  },
  {
   "cell_type": "code",
   "execution_count": 13,
   "metadata": {},
   "outputs": [
    {
     "name": "stdout",
     "output_type": "stream",
     "text": [
      "2 3 5 7 "
     ]
    }
   ],
   "source": [
    "N1 = Node(2)\n",
    "N2 = Node(3)\n",
    "N3 = Node(5)\n",
    "N4 = Node(7)\n",
    "\n",
    "llist = LinkedList()\n",
    "llist.head = N1\n",
    "N1.next = N2\n",
    "N2.next = N3\n",
    "N3.next = N4\n",
    "N4.next = None\n",
    "llist.print_list()"
   ]
  },
  {
   "cell_type": "code",
   "execution_count": 14,
   "metadata": {},
   "outputs": [
    {
     "name": "stdout",
     "output_type": "stream",
     "text": [
      "2 3 7 "
     ]
    }
   ],
   "source": [
    "# Deleting the node value of 5\n",
    "llist.deleteNode(5)\n",
    "\n",
    "# printing the result\n",
    "llist.print_list()"
   ]
  },
  {
   "cell_type": "markdown",
   "metadata": {},
   "source": [
    "#### 2. Delete the node at a given position of linkedlist                                               \n",
    "Input: position = 1,                       \n",
    "Linked List = 8->2->3->1->7                       \n",
    "Output: Linked List =  8->3->1->7              "
   ]
  },
  {
   "cell_type": "code",
   "execution_count": 2,
   "metadata": {},
   "outputs": [],
   "source": [
    "# Node class\n",
    "class Node:  # Node containing both data and its pointer value as next node's address to link\n",
    "    def __init__(self,data):\n",
    "        self.data = data\n",
    "        self.next = None\n",
    "\n",
    "# Linkedlist class        \n",
    "class LinkedList:\n",
    "    def __init__(self):\n",
    "        self.head = None   # Initializing the first node to be null\n",
    "    \n",
    "    def print_list(self):\n",
    "        '''Prints all the data in the linkedlist'''\n",
    "        temp = self.head\n",
    "        while temp:\n",
    "            print(temp.data,end = ' ')\n",
    "            temp = temp.next\n",
    "    \n",
    "    def deleteNode(self,n):\n",
    "        '''Deleting the node at a given position.'''\n",
    "        \n",
    "        # if , head node is empty then,\n",
    "        if self.head == None:\n",
    "            return\n",
    "        \n",
    "        #if not, declaring head node in the temporary variable\n",
    "        temp = self.head\n",
    "        \n",
    "        # traversing the linked list to n - 1 th node to get its previous node\n",
    "        for i in range(n-1):\n",
    "            temp = temp.next\n",
    "            if temp is None:\n",
    "                break\n",
    "                \n",
    "        # If , position is given greater than nodes then,\n",
    "        if temp is None:\n",
    "            return\n",
    "        \n",
    "        if temp.next is None:\n",
    "            return\n",
    "        \n",
    "        # if, temp.next is the node to be deleleted. So, we can take n+1th node in a variable\n",
    "        next_node = temp.next.next\n",
    "        \n",
    "        # free space the node that we want to delete\n",
    "        temp.next = None\n",
    "        \n",
    "        # Changing the pointer value of temp to the next value\n",
    "        temp.next = next_node"
   ]
  },
  {
   "cell_type": "code",
   "execution_count": 5,
   "metadata": {},
   "outputs": [
    {
     "name": "stdout",
     "output_type": "stream",
     "text": [
      "5 25 50 75 "
     ]
    }
   ],
   "source": [
    "n1 = Node(5)\n",
    "n2 = Node(25)\n",
    "n3 = Node(50)\n",
    "n4 = Node(75)\n",
    "\n",
    "#linking\n",
    "llist = LinkedList()\n",
    "llist.head = n1\n",
    "n1.next = n2\n",
    "n2.next = n3\n",
    "n3.next = n4\n",
    "n4.next = None\n",
    "\n",
    "#printing\n",
    "llist.print_list()"
   ]
  },
  {
   "cell_type": "code",
   "execution_count": 6,
   "metadata": {},
   "outputs": [
    {
     "name": "stdout",
     "output_type": "stream",
     "text": [
      "5 25 50 "
     ]
    }
   ],
   "source": [
    "#delleting the 3rd position from the linkedlist (0,1,2,3)\n",
    "llist.deleteNode(3)\n",
    "\n",
    "#printing\n",
    "llist.print_list()"
   ]
  },
  {
   "cell_type": "markdown",
   "metadata": {},
   "source": [
    "#### 3. Deleting nth node from the end of linkedlist,                      \n",
    "1. Brute-force iteration.                       \n",
    "2. Two runners iteration."
   ]
  },
  {
   "cell_type": "markdown",
   "metadata": {},
   "source": [
    "##### 1. Bruteforce iteration\n"
   ]
  },
  {
   "cell_type": "code",
   "execution_count": 1,
   "metadata": {},
   "outputs": [],
   "source": [
    "# Node class\n",
    "class Node:  # Node containing both data and its pointer value as next node's address to link\n",
    "    def __init__(self,data):\n",
    "        self.data = data\n",
    "        self.next = None\n",
    "\n",
    "# Linkedlist class        \n",
    "class LinkedList:\n",
    "    def __init__(self):\n",
    "        self.head = None   # Initializing the first node to be null\n",
    "    \n",
    "    def print_list(self):\n",
    "        '''Prints all the data in the linkedlist'''\n",
    "        temp = self.head\n",
    "        while temp:\n",
    "            print(temp.data,end = ' ')\n",
    "            temp = temp.next\n",
    "            \n",
    "    def length(self):\n",
    "        '''returns length of the linkedlist'''\n",
    "        temp = self.head\n",
    "        count = 0\n",
    "        while temp:\n",
    "            count = count+1\n",
    "            temp = temp.next\n",
    "        return count\n",
    "    \n",
    "    \n",
    "    def deleteNode(self,n):\n",
    "        '''Deleting nth node from the end of linkedlist'''\n",
    "        # if head node is empty\n",
    "        if self.head == None:\n",
    "            return\n",
    "        \n",
    "        # declaring head node to temporary variable\n",
    "        temp = self.head\n",
    "        \n",
    "        # Traversing along to delete the nth node\n",
    "        length = self.length()\n",
    "        for _ in range(length-n-1):\n",
    "            temp = temp.next\n",
    "            if temp == None:\n",
    "                break\n",
    "        \n",
    "        next_node = temp.next.next\n",
    "        \n",
    "        temp.next = None\n",
    "        temp.next = next_node"
   ]
  },
  {
   "cell_type": "code",
   "execution_count": 2,
   "metadata": {},
   "outputs": [
    {
     "name": "stdout",
     "output_type": "stream",
     "text": [
      "60 120 180 240 "
     ]
    }
   ],
   "source": [
    "n1 = Node(60)\n",
    "n2 = Node(120)\n",
    "n3 = Node(180)\n",
    "n4 = Node(240)\n",
    "\n",
    "#Linking \n",
    "llist = LinkedList()\n",
    "llist.head = n1\n",
    "n1.next = n2\n",
    "n2.next = n3\n",
    "n3.next = n4\n",
    "n4.next = None\n",
    "\n",
    "#printing the length\n",
    "llist.print_list()"
   ]
  },
  {
   "cell_type": "code",
   "execution_count": 3,
   "metadata": {},
   "outputs": [],
   "source": [
    "#printing the length\n",
    "llist.deleteNode(2)"
   ]
  },
  {
   "cell_type": "code",
   "execution_count": 4,
   "metadata": {},
   "outputs": [
    {
     "name": "stdout",
     "output_type": "stream",
     "text": [
      "60 120 240 "
     ]
    }
   ],
   "source": [
    "llist.print_list()"
   ]
  },
  {
   "cell_type": "markdown",
   "metadata": {},
   "source": [
    "##### 2. Two runners iteration."
   ]
  },
  {
   "cell_type": "code",
   "execution_count": 12,
   "metadata": {},
   "outputs": [],
   "source": [
    "# Node class\n",
    "class Node:  # Node containing both data and its pointer value as next node's address to link\n",
    "    def __init__(self,data):\n",
    "        self.data = data\n",
    "        self.next = None\n",
    "\n",
    "# Linkedlist class        \n",
    "class LinkedList:\n",
    "    def __init__(self):\n",
    "        self.head = None   # Initializing the first node to be null\n",
    "    \n",
    "    def print_list(self):\n",
    "        '''Prints all the data in the linkedlist'''\n",
    "        temp = self.head\n",
    "        while temp:\n",
    "            print(temp.data,end = ' ')\n",
    "            temp = temp.next\n",
    "    \n",
    "    def deleteNode(self,n):\n",
    "        '''Deleting the nth node from end of linkedlist using \n",
    "        two runners teration technique.'''\n",
    "        first_runner = self.head  # first runner as initial \n",
    "        second_runner = self.head # this runner to be iterated n times \n",
    "        \n",
    "        #iterzting the second runner to n position\n",
    "        for i in range(n):\n",
    "            \n",
    "            #if the length of nodes were less than n\n",
    "            if second_runner.next == None:\n",
    "                if (i == n-1):\n",
    "                    self.head = self.head.next   # changing the head position\n",
    "            second_runner = second_runner.next\n",
    "        \n",
    "        #looping both first and second runner simultaneously to get the result\n",
    "        while (second_runner.next != None):\n",
    "            second_runner = second_runner.next\n",
    "            first_runner = first_runner.next\n",
    "            \n",
    "        # Deleting the node \n",
    "        first_runner.next = first_runner.next.next\n",
    "    "
   ]
  },
  {
   "cell_type": "code",
   "execution_count": 13,
   "metadata": {},
   "outputs": [
    {
     "name": "stdout",
     "output_type": "stream",
     "text": [
      "7 1 2 3 "
     ]
    }
   ],
   "source": [
    "n1 = Node(7)\n",
    "n2 = Node(1)\n",
    "n3 = Node(2)\n",
    "n4 = Node(3)\n",
    "\n",
    "#linking\n",
    "llist = LinkedList()\n",
    "llist.head = n1\n",
    "n1.next = n2\n",
    "n2.next = n3\n",
    "n3.next = n4\n",
    "n4.next = None\n",
    "\n",
    "llist.print_list()"
   ]
  },
  {
   "cell_type": "code",
   "execution_count": 16,
   "metadata": {},
   "outputs": [
    {
     "name": "stdout",
     "output_type": "stream",
     "text": [
      "7 1 3 "
     ]
    }
   ],
   "source": [
    "llist.deleteNode(2)\n",
    "\n",
    "#print\n",
    "llist.print_list()"
   ]
  },
  {
   "cell_type": "markdown",
   "metadata": {},
   "source": [
    "## Reversing the LinkedList:                     \n",
    "Input : Head of following linked list            \n",
    "       1->2->3->4->NULL                               \n",
    "Output : Linked list should be changed to,                        \n",
    "       4->3->2->1->NULL                   \n",
    "       \n",
    "Two approaches,              \n",
    "1. Iteration process,                   \n",
    "2. Recursive process."
   ]
  },
  {
   "cell_type": "markdown",
   "metadata": {},
   "source": [
    "#### 1. Iterative process:               \n",
    "This can be iteratively update the data and its pointer values."
   ]
  },
  {
   "cell_type": "code",
   "execution_count": 2,
   "metadata": {},
   "outputs": [],
   "source": [
    "# Node class\n",
    "class Node:  # Node containing both data and its pointer value as next node's address to link\n",
    "    def __init__(self,data):\n",
    "        self.data = data\n",
    "        self.next = None\n",
    "\n",
    "# Linkedlist class        \n",
    "class LinkedList:\n",
    "    def __init__(self):\n",
    "        self.head = None   # Initializing the first node to be null\n",
    "    \n",
    "    def print_list(self):\n",
    "        '''Prints all the data in the linkedlist'''\n",
    "        temp = self.head\n",
    "        while temp:\n",
    "            print(temp.data,end = ' ')\n",
    "            temp = temp.next\n",
    "    \n",
    "    def reverse_iter(self):\n",
    "        '''Reverses the linkedlist by using iterative approach'''\n",
    "        # Initializing the previous variable  as None\n",
    "        prev = None\n",
    "        # Initializing current variable as head node\n",
    "        current = self.head\n",
    "        \n",
    "        # Traversing along the linkedlist to change the link position that reverses the operation\n",
    "        while (current != None):\n",
    "            # variable that contains the pointer value of cuurent node\n",
    "            next = current.next\n",
    "            # Updating the cuurent node's pointer value that reverses the link\n",
    "            current.next = prev\n",
    "            # Updating the previous node from head to next nodes\n",
    "            prev = current\n",
    "            # uodating the cuurent node to the next nodes pointer value\n",
    "            current = next\n",
    "        self.head = prev"
   ]
  },
  {
   "cell_type": "code",
   "execution_count": 3,
   "metadata": {},
   "outputs": [
    {
     "name": "stdout",
     "output_type": "stream",
     "text": [
      "4 6 8 12 "
     ]
    }
   ],
   "source": [
    "n1 = Node(4)\n",
    "n2 = Node(6)\n",
    "n3 = Node(8)\n",
    "n4 = Node(12)\n",
    "\n",
    "# Linking\n",
    "llist = LinkedList()\n",
    "llist.head = n1\n",
    "n1.next = n2\n",
    "n2.next = n3\n",
    "n3.next = n4\n",
    "n4.next = None\n",
    "\n",
    "# printing\n",
    "llist.print_list()"
   ]
  },
  {
   "cell_type": "code",
   "execution_count": 4,
   "metadata": {},
   "outputs": [
    {
     "name": "stdout",
     "output_type": "stream",
     "text": [
      "12 8 6 4 "
     ]
    }
   ],
   "source": [
    "#reversing the linkedlist\n",
    "llist.reverse_iter()\n",
    "\n",
    "# printing\n",
    "llist.print_list()"
   ]
  },
  {
   "cell_type": "markdown",
   "metadata": {},
   "source": [
    "#### 2. Recursive approach:                  \n",
    "which recurs over next node and its current node's address"
   ]
  },
  {
   "cell_type": "code",
   "execution_count": 25,
   "metadata": {},
   "outputs": [],
   "source": [
    "# Node class\n",
    "class Node:  # Node containing both data and its pointer value as next node's address to link\n",
    "    def __init__(self,data):\n",
    "        self.data = data\n",
    "        self.next = None\n",
    "\n",
    "# Linkedlist class        \n",
    "class LinkedList:\n",
    "    def __init__(self):\n",
    "        self.head = None   # Initializing the first node to be null\n",
    "    \n",
    "    def print_list(self):\n",
    "        '''Prints all the data in the linkedlist'''\n",
    "        temp = self.head\n",
    "        while temp:\n",
    "            print(temp.data,end = ' ')\n",
    "            temp = temp.next\n",
    "    \n",
    "    def reverse_recur(self,current,prev):\n",
    "        '''Recursive function that reverses the linked list'''\n",
    "        # recursing the linkedlist by getting its last node where the pointer value is 0.if it is None:\n",
    "        if current.next == None:\n",
    "            #updating the head node as that last current node\n",
    "            self.head = current\n",
    "            \n",
    "            #updating the pointer value\n",
    "            current.next = prev\n",
    "            return\n",
    "        # Creating variale that contains pointer value of current node\n",
    "        next = current.next\n",
    "        \n",
    "        # updating the pointer value of current node as previous node's address\n",
    "        current.next = prev\n",
    "        \n",
    "        #Calling recursive function\n",
    "        self.reverse_recur(next,current)\n",
    "    \n",
    "    def reverse(self):\n",
    "        '''Final reverse function'''\n",
    "        if self.head is None:\n",
    "            return\n",
    "        self.reverse_recur(self.head,None)   # calling the function that inputs cuurent as head node and its prev as None"
   ]
  },
  {
   "cell_type": "code",
   "execution_count": 26,
   "metadata": {},
   "outputs": [
    {
     "name": "stdout",
     "output_type": "stream",
     "text": [
      "45 56 69 88 21 "
     ]
    }
   ],
   "source": [
    "n1 = Node(45)\n",
    "n2 = Node(56)\n",
    "n3 = Node(69)\n",
    "n4 = Node(88)\n",
    "n5 = Node(21)\n",
    "\n",
    "#linking\n",
    "llist = LinkedList()\n",
    "llist.head = n1\n",
    "n1.next = n2\n",
    "n2.next = n3\n",
    "n3.next = n4\n",
    "n4.next = n5\n",
    "n5.next = None\n",
    "\n",
    "#printing\n",
    "llist.print_list()"
   ]
  },
  {
   "cell_type": "code",
   "execution_count": 27,
   "metadata": {},
   "outputs": [
    {
     "name": "stdout",
     "output_type": "stream",
     "text": [
      "21 88 69 56 45 "
     ]
    }
   ],
   "source": [
    "# reversing using recur function\n",
    "llist.reverse()\n",
    "\n",
    "#printing\n",
    "llist.print_list()"
   ]
  },
  {
   "cell_type": "markdown",
   "metadata": {},
   "source": [
    "### Printing elements of the linkedlist using recursion:"
   ]
  },
  {
   "cell_type": "code",
   "execution_count": 84,
   "metadata": {},
   "outputs": [],
   "source": [
    "# Node class\n",
    "class Node:  # Node containing both data and its pointer value as next node's address to link\n",
    "    def __init__(self,data):\n",
    "        self.data = data\n",
    "        self.next = None\n",
    "\n",
    "# Linkedlist class        \n",
    "class LinkedList:\n",
    "    def __init__(self):\n",
    "        self.head = None   # Initializing the first node to be null\n",
    "    \n",
    "    def print_recur(self,current):\n",
    "        # When node's pointer value is None then,\n",
    "        if current == None:\n",
    "            #print(current.data,end = ' ')\n",
    "            \n",
    "            return\n",
    "        #print the data\n",
    "        print(current.data,end = ' ')\n",
    "        #next for recursion over next node to print the element\n",
    "        next = current.next\n",
    "        \n",
    "        self.print_recur(next)\n",
    "    \n",
    "    def print_list(self):\n",
    "        self.print_recur(self.head)"
   ]
  },
  {
   "cell_type": "code",
   "execution_count": 85,
   "metadata": {},
   "outputs": [
    {
     "name": "stdout",
     "output_type": "stream",
     "text": [
      "54 21 45 78 87 "
     ]
    }
   ],
   "source": [
    "n1 = Node(54)\n",
    "n2 = Node(21)\n",
    "n3 = Node(45)\n",
    "n4 = Node(78)\n",
    "n5 = Node(87)\n",
    "#linking\n",
    "llist = LinkedList()\n",
    "llist.head = n1\n",
    "n1.next = n2\n",
    "n2.next = n3\n",
    "n3.next = n4\n",
    "n4.next = n5\n",
    "\n",
    "\n",
    "#printing the recursive function\n",
    "llist.print_list()"
   ]
  },
  {
   "cell_type": "markdown",
   "metadata": {},
   "source": [
    "### Sorting the linkedlist :"
   ]
  },
  {
   "cell_type": "code",
   "execution_count": 4,
   "metadata": {},
   "outputs": [],
   "source": [
    "# Node class\n",
    "class Node:  # Node containing both data and its pointer value as next node's address to link\n",
    "    def __init__(self,data):\n",
    "        self.data = data\n",
    "        self.next = None\n",
    "\n",
    "# Linkedlist class        \n",
    "class LinkedList:\n",
    "    def __init__(self):\n",
    "        self.head = None   # Initializing the first node to be null\n",
    "        self.size = 0\n",
    "        \n",
    "    def print_list(self):\n",
    "        '''Prints all the data in the linkedlist'''\n",
    "        temp = self.head\n",
    "        while temp:\n",
    "            \n",
    "            print(temp.data,end = ' ')\n",
    "            temp = temp.next\n",
    "            self.size = self.size-1\n",
    "            if self.size == 0:\n",
    "                print(temp.data,end = ' ')\n",
    "                break\n",
    "            \n",
    "            \n",
    "    def add_node(self,n):\n",
    "        n.next = self.head\n",
    "        self.head = n\n",
    "        self.size +=1\n",
    "            \n",
    "    def get_data(self,n):\n",
    "        \n",
    "        return n.data\n",
    "        \n",
    "    def length(self):\n",
    "        temp = self.head\n",
    "        count = 0\n",
    "        while temp:\n",
    "            count = count+1\n",
    "            temp = temp.next\n",
    "        return count\n",
    "    \n",
    "    \n",
    "    \n",
    "    \n",
    "    def sort(self):\n",
    "        # head node in a current variable\n",
    "        if self.length() > 1:\n",
    "            current = self.head\n",
    "            #creating empty list in which we get a sorted nodes as a python list\n",
    "            newList = []\n",
    "            # appending the first head node's data to the newList\n",
    "            newList.append(self.head)\n",
    "        \n",
    "            # Traversing through linked list to get the nodes into newList as python list\n",
    "            while current.next != None:\n",
    "                current = current.next\n",
    "                newList.append(current)\n",
    "            \n",
    "            newList = sorted(newList,key = lambda node: self.get_data(node),reverse = True)\n",
    "            \n",
    "            newll = LinkedList()\n",
    "            \n",
    "            newll.head = newList[0]\n",
    "            \n",
    "            for node in newList[1:]:\n",
    "                newll.add_node(node)   \n",
    "            return newll\n",
    "                \n",
    "        return self"
   ]
  },
  {
   "cell_type": "code",
   "execution_count": 5,
   "metadata": {},
   "outputs": [
    {
     "name": "stdout",
     "output_type": "stream",
     "text": [
      "40 25 56 1 3 7 "
     ]
    }
   ],
   "source": [
    "n1 = Node(40)\n",
    "n2 = Node(25)\n",
    "n3 = Node(56)\n",
    "n4 = Node(1)\n",
    "n5 = Node(3)\n",
    "n6 = Node(7)\n",
    "#linking\n",
    "llist = LinkedList()\n",
    "llist.head = n1\n",
    "n1.next = n2\n",
    "n2.next = n3\n",
    "n3.next = n4\n",
    "n4.next = n5\n",
    "n5.next = n6\n",
    "# printing\n",
    "llist.print_list()"
   ]
  },
  {
   "cell_type": "code",
   "execution_count": 6,
   "metadata": {},
   "outputs": [
    {
     "name": "stdout",
     "output_type": "stream",
     "text": [
      "1 3 7 25 40 56 "
     ]
    }
   ],
   "source": [
    "# Sorting the linkedlist\n",
    "sort_list = llist.sort()\n",
    "#printing\n",
    "sort_list.print_list()"
   ]
  },
  {
   "cell_type": "markdown",
   "metadata": {},
   "source": [
    "### Merging the linkedlist:                       \n",
    "1. iterative approach             \n",
    "2. Recursive approach"
   ]
  },
  {
   "cell_type": "markdown",
   "metadata": {},
   "source": [
    "#### Iterative approach:"
   ]
  },
  {
   "cell_type": "code",
   "execution_count": 51,
   "metadata": {},
   "outputs": [],
   "source": [
    "# Node class\n",
    "class Node:  # Node containing both data and its pointer value as next node's address to link\n",
    "    def __init__(self,data):\n",
    "        self.data = data\n",
    "        self.next = None\n",
    "\n",
    "# Linkedlist class        \n",
    "class LinkedList:\n",
    "    def __init__(self):\n",
    "        self.head = None   # Initializing the first node to be null\n",
    "        self.size = 0\n",
    "    \n",
    "    def add_node(self,n):\n",
    "        '''Adding node to the linkedlist'''\n",
    "        n.next = self.head\n",
    "        self.head = n\n",
    "        self.size += 1\n",
    "        \n",
    "    def get_data(self,n):\n",
    "        '''getting data from the linked list'''\n",
    "        return n.data\n",
    "        \n",
    "    def length(self):\n",
    "        '''returns length of the linkedlist'''\n",
    "        temp = self.head\n",
    "        count = 0\n",
    "        while temp.next != None:\n",
    "            count += 1\n",
    "            temp = temp.next\n",
    "        return count\n",
    "    \n",
    "        \n",
    "    def print_list(self):\n",
    "        '''Prints all the data in the linkedlist'''\n",
    "        temp = self.head\n",
    "        while temp:\n",
    "            \n",
    "            print(temp.data,end = ' ')\n",
    "            temp = temp.next\n",
    "            self.size = self.size-1\n",
    "            if self.size == 0:\n",
    "                print(temp.data,end = ' ')\n",
    "                break\n",
    "            \n",
    "            \n",
    "    \n",
    "    def sort(self):\n",
    "        '''returns sorted linked list'''\n",
    "        if self.length() > 1:\n",
    "            # empty python list\n",
    "            newList = []\n",
    "            # head node in current variable\n",
    "            current = self.head\n",
    "            # appending the head node in the newList\n",
    "            newList.append(current)\n",
    "            \n",
    "            while current.next != None:\n",
    "                \n",
    "                current = current.next\n",
    "                newList.append(current)\n",
    "            # ssorting the newList in descending order\n",
    "            newList = sorted(newList,key = lambda node: self.get_data(node),reverse = True)\n",
    "            \n",
    "            # creating new Linkedlist which has sorted nodes\n",
    "            newll = LinkedList()\n",
    "            # first elenet in the newList as head node of new linkedlist\n",
    "            newll.head = newList[0]\n",
    "            # looping to add node in the linkedlist\n",
    "            for node in newList[1:]:\n",
    "                newll.add_node(node)\n",
    "            \n",
    "            return newll\n",
    "        return self\n",
    "            \n",
    "    \n",
    "    def merge_list(self,ll1):\n",
    "        '''Merging two sorted linked list'''\n",
    "        \n",
    "        # taking two linkedlist's head pointer\n",
    "        p = self.head\n",
    "        q = ll1.head\n",
    "        # keep track of smallest number \n",
    "        s = None\n",
    "        \n",
    "        # condition if one head is empty\n",
    "        if p == None:\n",
    "            # as q has already sorted\n",
    "            return q\n",
    "        \n",
    "        # if other is empty\n",
    "        if q == None:\n",
    "            return p\n",
    "        \n",
    "        # suppose p and q are not none\n",
    "        if p and q:    \n",
    "            # if data of one head is less than other /greater than \n",
    "            if p.data <= q.data:\n",
    "                s = p\n",
    "                p = s.next \n",
    "            else:\n",
    "                s = q\n",
    "                q = s.next\n",
    "                \n",
    "            new_head = s\n",
    "            \n",
    "        # logic : that changes every link between the nodes to merge the sorted linkedlsits with respect to s\n",
    "        while p and q:\n",
    "            if p.data <= q.data:\n",
    "                s.next = p\n",
    "                s = p\n",
    "                p = s.next\n",
    "            else:\n",
    "                s.next = q\n",
    "                s = q\n",
    "                q = s.next\n",
    "        # at the last when p is null, then merge q's data to the p\n",
    "        if not p:\n",
    "            s.next = q\n",
    "        if not q:\n",
    "            s.next = p\n",
    "        \n",
    "        return new_head\n",
    "        \n",
    "    \n",
    "\n",
    "    def append(self,new_data):\n",
    "        '''appens the node in the linkedlist'''\n",
    "        # creating the node with new data\n",
    "        new_node = Node(new_data)\n",
    "        # creating head node in a temporary variable\n",
    "        # if suppose the head is empty\n",
    "        if self.head is None:\n",
    "            # adding new node that we created as the head node\n",
    "            self.head = new_node\n",
    "            return\n",
    "        \n",
    "        temp = self.head\n",
    "        # If the head node has value then,\n",
    "        while temp.next != None:\n",
    "            temp = temp.next\n",
    "        \n",
    "        temp.next = new_node\n",
    "        \n",
    "        "
   ]
  },
  {
   "cell_type": "code",
   "execution_count": 52,
   "metadata": {},
   "outputs": [],
   "source": [
    "#creating two linkedlists \n",
    "llist1 = LinkedList()\n",
    "llist2 = LinkedList()\n",
    "\n",
    "# appending the nodes \n",
    "llist1.append(1)\n",
    "llist1.append(5)\n",
    "llist1.append(7)\n",
    "llist1.append(9)\n",
    "llist1.append(10)\n",
    "\n",
    "llist2.append(2)\n",
    "llist2.append(3)\n",
    "llist2.append(4)\n",
    "llist2.append(6)\n",
    "llist2.append(8)"
   ]
  },
  {
   "cell_type": "code",
   "execution_count": 53,
   "metadata": {},
   "outputs": [
    {
     "name": "stdout",
     "output_type": "stream",
     "text": [
      "1 5 7 9 10 "
     ]
    }
   ],
   "source": [
    "# ll1\n",
    "llist1.print_list()"
   ]
  },
  {
   "cell_type": "code",
   "execution_count": 54,
   "metadata": {},
   "outputs": [
    {
     "name": "stdout",
     "output_type": "stream",
     "text": [
      "2 3 4 6 8 "
     ]
    }
   ],
   "source": [
    "# ll2\n",
    "llist2.print_list()"
   ]
  },
  {
   "cell_type": "code",
   "execution_count": 55,
   "metadata": {},
   "outputs": [
    {
     "name": "stdout",
     "output_type": "stream",
     "text": [
      "1 5 7 9 10 "
     ]
    }
   ],
   "source": [
    "# sorting linkedlist\n",
    "sort_list = llist1.sort()\n",
    "sort_list.print_list()"
   ]
  },
  {
   "cell_type": "code",
   "execution_count": 56,
   "metadata": {},
   "outputs": [
    {
     "name": "stdout",
     "output_type": "stream",
     "text": [
      "2 3 4 6 8 "
     ]
    }
   ],
   "source": [
    "# sorting ll2\n",
    "ll2_sort = llist2.sort()\n",
    "ll2_sort.print_list()"
   ]
  },
  {
   "cell_type": "code",
   "execution_count": 57,
   "metadata": {},
   "outputs": [
    {
     "data": {
      "text/plain": [
       "<__main__.Node at 0x1afd40437b8>"
      ]
     },
     "execution_count": 57,
     "metadata": {},
     "output_type": "execute_result"
    }
   ],
   "source": [
    "llist1.merge_list(llist2)"
   ]
  },
  {
   "cell_type": "code",
   "execution_count": 58,
   "metadata": {},
   "outputs": [
    {
     "name": "stdout",
     "output_type": "stream",
     "text": [
      "1 2 3 4 5 6 7 8 9 10 "
     ]
    }
   ],
   "source": [
    "llist1.print_list()"
   ]
  },
  {
   "cell_type": "markdown",
   "metadata": {},
   "source": [
    "#### Recursive approach:"
   ]
  },
  {
   "cell_type": "code",
   "execution_count": 142,
   "metadata": {},
   "outputs": [],
   "source": [
    "# Node class\n",
    "class Node:  # Node containing both data and its pointer value as next node's address to link\n",
    "    def __init__(self,data):\n",
    "        self.data = data\n",
    "        self.next = None\n",
    "\n",
    "# Linkedlist class        \n",
    "class LinkedList:\n",
    "    def __init__(self):\n",
    "        self.head = None   # Initializing the first node to be null\n",
    "    \n",
    "    def print_list(self):\n",
    "        '''Prints all the data in the linkedlist'''\n",
    "        temp = self.head\n",
    "        while temp:\n",
    "            print(temp.data,end = ' ')\n",
    "            temp = temp.next\n",
    "            \n",
    "    \n",
    "    def merge_recur(self,head1,head2):\n",
    "        '''merging two linkedlist in the recursive approach'''\n",
    "        # temporary variable as none\n",
    "        s = None\n",
    "        \n",
    "        # condition if one of the head is null then\n",
    "        if head1 is None:\n",
    "            return head2\n",
    "        if head2 is None:\n",
    "            return head1\n",
    "        \n",
    "        # condition if llist 1 's data is lesss than llist2's\n",
    "        if head1.data <= head2.data:\n",
    "            # assigning s to the least data value\n",
    "            s = head1\n",
    "            \n",
    "            #recursion\n",
    "            s.next = self.merge_recur(head1.next,head2)\n",
    "        \n",
    "        else:\n",
    "            # if greater then\n",
    "            s = head2\n",
    "            \n",
    "            # recursion\n",
    "            s.next = self.merge_recur(head1,head2.next)\n",
    "        \n",
    "        return s\n",
    "                \n",
    "    def append(self,new_data):\n",
    "        # creating new node for that data\n",
    "        new_node = Node(new_data)\n",
    "        \n",
    "        # if head node is null then\n",
    "        if self.head == None:\n",
    "            # append the new node to that head node\n",
    "            self.head = new_node\n",
    "            return\n",
    "        temp = self.head\n",
    "        while temp.next != None:\n",
    "            temp = temp.next\n",
    "        \n",
    "        # adding after the last node with new node\n",
    "        temp.next = new_node\n",
    "    \n",
    "    "
   ]
  },
  {
   "cell_type": "code",
   "execution_count": 148,
   "metadata": {},
   "outputs": [],
   "source": [
    "# creating twio linked list\n",
    "llist1 = LinkedList()\n",
    "llist2 = LinkedList()\n",
    "\n",
    "# appending the nodes in both linked lists\n",
    "llist1.append(10)\n",
    "llist1.append(20)\n",
    "llist1.append(30)\n",
    "llist1.append(40)\n",
    "llist1.append(50)\n",
    "\n",
    "llist2.append(5)\n",
    "llist2.append(15)\n",
    "llist2.append(25)\n",
    "\n",
    "\n"
   ]
  },
  {
   "cell_type": "code",
   "execution_count": 149,
   "metadata": {},
   "outputs": [
    {
     "name": "stdout",
     "output_type": "stream",
     "text": [
      "10 20 30 40 50 "
     ]
    }
   ],
   "source": [
    "llist1.print_list()"
   ]
  },
  {
   "cell_type": "code",
   "execution_count": 150,
   "metadata": {},
   "outputs": [
    {
     "name": "stdout",
     "output_type": "stream",
     "text": [
      "5 15 25 "
     ]
    }
   ],
   "source": [
    "llist2.print_list()"
   ]
  },
  {
   "cell_type": "code",
   "execution_count": 151,
   "metadata": {},
   "outputs": [],
   "source": [
    "# merging two linked list \n",
    "# creating another linked list\n",
    "llist3 = LinkedList()\n",
    "\n",
    "llist3.head = llist3.merge_recur(llist1.head,llist2.head)"
   ]
  },
  {
   "cell_type": "code",
   "execution_count": 152,
   "metadata": {},
   "outputs": [
    {
     "name": "stdout",
     "output_type": "stream",
     "text": [
      "5 10 15 20 25 30 40 50 "
     ]
    }
   ],
   "source": [
    "llist3.print_list()"
   ]
  },
  {
   "cell_type": "code",
   "execution_count": null,
   "metadata": {},
   "outputs": [],
   "source": []
  },
  {
   "cell_type": "code",
   "execution_count": null,
   "metadata": {},
   "outputs": [],
   "source": []
  }
 ],
 "metadata": {
  "kernelspec": {
   "display_name": "Python 3",
   "language": "python",
   "name": "python3"
  },
  "language_info": {
   "codemirror_mode": {
    "name": "ipython",
    "version": 3
   },
   "file_extension": ".py",
   "mimetype": "text/x-python",
   "name": "python",
   "nbconvert_exporter": "python",
   "pygments_lexer": "ipython3",
   "version": "3.7.1"
  }
 },
 "nbformat": 4,
 "nbformat_minor": 2
}
